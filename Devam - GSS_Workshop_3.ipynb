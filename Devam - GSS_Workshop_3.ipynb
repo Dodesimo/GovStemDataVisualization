{
 "nbformat": 4,
 "nbformat_minor": 0,
 "metadata": {
  "colab": {
   "provenance": [],
   "collapsed_sections": [
    "VJP21c5zbphH",
    "iIbLz2_msZ1T",
    "BH2Y3WOysJ4i",
    "uC062Ng4seHb",
    "W4IivnAms8uR",
    "jFrkzzEbufIg",
    "4pcZw-dY6utJ",
    "jFwdnn1INnkv",
    "j_AzmKjEWmiP",
    "PKNcM9habrro"
   ]
  },
  "kernelspec": {
   "name": "python3",
   "display_name": "Python 3"
  },
  "language_info": {
   "name": "python"
  }
 },
 "cells": [
  {
   "cell_type": "markdown",
   "source": [
    "# NumPy, Pandas, and Matplotlab"
   ],
   "metadata": {
    "id": "2fIBuFQa1UCW",
    "pycharm": {
     "name": "#%% md\n"
    }
   }
  },
  {
   "cell_type": "markdown",
   "source": [
    "## NumPy - Numerical Python\n",
    "\n",
    "This library is used for computation.\n",
    "\n",
    "https://numpy.org/"
   ],
   "metadata": {
    "id": "VJP21c5zbphH",
    "pycharm": {
     "name": "#%% md\n"
    }
   }
  },
  {
   "cell_type": "markdown",
   "source": [
    "A key feature of numpy is the n-dimensional array object, or ndarray, which allows you to perform mathematical operations on entire arrays as you would with scalars"
   ],
   "metadata": {
    "id": "XoKAS-17oqHP",
    "pycharm": {
     "name": "#%% md\n"
    }
   }
  },
  {
   "cell_type": "markdown",
   "source": [
    "### Basics"
   ],
   "metadata": {
    "id": "iIbLz2_msZ1T",
    "pycharm": {
     "name": "#%% md\n"
    }
   }
  },
  {
   "cell_type": "code",
   "execution_count": 2,
   "metadata": {
    "id": "Tryx3RosJTLR",
    "pycharm": {
     "name": "#%%\n"
    }
   },
   "outputs": [],
   "source": [
    "import numpy as np # You need to import the NumPy Library whenever you use its function"
   ]
  },
  {
   "cell_type": "code",
   "source": [
    "data1 = [3, 2.8, 19, 5, 17.6, 5.1] # Note that when you have a list of integer and decimal numbers, np.array will convert everything into decimal number\n",
    "arr1 = np.array(data1)\n",
    "arr1 # In this example, the first element 3 is convert into 3.0"
   ],
   "metadata": {
    "colab": {
     "base_uri": "https://localhost:8080/"
    },
    "id": "23mI6n7KpFCW",
    "outputId": "67a3e0e7-60c5-4b75-ae79-432504a41c41",
    "pycharm": {
     "name": "#%%\n"
    }
   },
   "execution_count": 3,
   "outputs": [
    {
     "data": {
      "text/plain": "array([ 3. ,  2.8, 19. ,  5. , 17.6,  5.1])"
     },
     "execution_count": 3,
     "metadata": {},
     "output_type": "execute_result"
    }
   ]
  },
  {
   "cell_type": "code",
   "source": [
    "wrong_list=[2,3,\"a\"]\n",
    "arr2 = np.array(wrong_list)\n",
    "arr2 # This is an array of string. "
   ],
   "metadata": {
    "colab": {
     "base_uri": "https://localhost:8080/"
    },
    "id": "BmaYtpCRpPNH",
    "outputId": "eaa987bd-51fa-46e8-acf4-bd999a1ed224",
    "pycharm": {
     "name": "#%%\n"
    }
   },
   "execution_count": 4,
   "outputs": [
    {
     "data": {
      "text/plain": "array(['2', '3', 'a'], dtype='<U21')"
     },
     "execution_count": 4,
     "metadata": {},
     "output_type": "execute_result"
    }
   ]
  },
  {
   "cell_type": "code",
   "source": [
    "print(type(arr2[0]))"
   ],
   "metadata": {
    "colab": {
     "base_uri": "https://localhost:8080/"
    },
    "id": "BrdUxKwSp2ci",
    "outputId": "eb13c246-f9aa-4d7f-96e9-5dd0e515902f",
    "pycharm": {
     "name": "#%%\n"
    }
   },
   "execution_count": 5,
   "outputs": [
    {
     "name": "stdout",
     "output_type": "stream",
     "text": [
      "<class 'numpy.str_'>\n"
     ]
    }
   ]
  },
  {
   "cell_type": "markdown",
   "source": [
    "Every element in the NumPy array must be the same type. This is the main difference between a list and an array. If the list contain elements with different types, Numpy.array() will convert all elements to the same type. "
   ],
   "metadata": {
    "id": "NOsQGSKFp7vC",
    "pycharm": {
     "name": "#%% md\n"
    }
   }
  },
  {
   "cell_type": "code",
   "source": [
    "a=[[5,6,7,8],[1,2,3,4]]\n",
    "a=np.array(a)\n",
    "print(a) # 2D array"
   ],
   "metadata": {
    "colab": {
     "base_uri": "https://localhost:8080/"
    },
    "id": "0F3sUmgFqjpC",
    "outputId": "0280efc2-8938-4e61-ea00-81ddf5a9b741",
    "pycharm": {
     "name": "#%%\n"
    }
   },
   "execution_count": 6,
   "outputs": [
    {
     "name": "stdout",
     "output_type": "stream",
     "text": [
      "[[5 6 7 8]\n",
      " [1 2 3 4]]\n"
     ]
    }
   ]
  },
  {
   "cell_type": "code",
   "source": [
    "# Numpy allows us to perform numerical operation easier\n",
    "# Here is an example\n",
    "# Subtract the second row from the first row\n",
    "print(a[0]-a[1])"
   ],
   "metadata": {
    "colab": {
     "base_uri": "https://localhost:8080/"
    },
    "id": "eis9RkieqpKU",
    "outputId": "3df72e28-563e-4faa-c2c7-f980f3085d86",
    "pycharm": {
     "name": "#%%\n"
    }
   },
   "execution_count": 7,
   "outputs": [
    {
     "name": "stdout",
     "output_type": "stream",
     "text": [
      "[4 4 4 4]\n"
     ]
    }
   ]
  },
  {
   "cell_type": "code",
   "source": [
    "# multiplying a Python list by a scalar repeats it (just like string)\n",
    "data1*2 # data1 is a list"
   ],
   "metadata": {
    "colab": {
     "base_uri": "https://localhost:8080/"
    },
    "id": "_2AGcTkRrOx-",
    "outputId": "a4e9a3ae-a4df-4d9f-e6ab-f1991fbce2a4",
    "pycharm": {
     "name": "#%%\n"
    }
   },
   "execution_count": 8,
   "outputs": [
    {
     "data": {
      "text/plain": "[3, 2.8, 19, 5, 17.6, 5.1, 3, 2.8, 19, 5, 17.6, 5.1]"
     },
     "execution_count": 8,
     "metadata": {},
     "output_type": "execute_result"
    }
   ]
  },
  {
   "cell_type": "code",
   "source": [
    "# multiplying a numpy array multiplies all items individually \n",
    "arr1*2 # arr1 is an array"
   ],
   "metadata": {
    "colab": {
     "base_uri": "https://localhost:8080/"
    },
    "id": "267qQyIbrTkv",
    "outputId": "82eea63a-fe0b-469d-9983-b0cba5277673",
    "pycharm": {
     "name": "#%%\n"
    }
   },
   "execution_count": 9,
   "outputs": [
    {
     "data": {
      "text/plain": "array([ 6. ,  5.6, 38. , 10. , 35.2, 10.2])"
     },
     "execution_count": 9,
     "metadata": {},
     "output_type": "execute_result"
    }
   ]
  },
  {
   "cell_type": "code",
   "source": [
    "# adding a scalar to a Python list?\n",
    "data1 + 2 # Impossible"
   ],
   "metadata": {
    "colab": {
     "base_uri": "https://localhost:8080/",
     "height": 183
    },
    "id": "bIHn1a4ErtBo",
    "outputId": "cce9a561-512d-4c88-ed37-1988c9b6faf0",
    "pycharm": {
     "name": "#%%\n"
    }
   },
   "execution_count": 10,
   "outputs": [
    {
     "ename": "TypeError",
     "evalue": "can only concatenate list (not \"int\") to list",
     "output_type": "error",
     "traceback": [
      "\u001B[0;31m---------------------------------------------------------------------------\u001B[0m",
      "\u001B[0;31mTypeError\u001B[0m                                 Traceback (most recent call last)",
      "\u001B[0;32m/var/folders/x3/d9wqpd_j1mz8xzmnqzq0z_vr0000gn/T/ipykernel_7256/3959247336.py\u001B[0m in \u001B[0;36m<module>\u001B[0;34m\u001B[0m\n\u001B[1;32m      1\u001B[0m \u001B[0;31m# adding a scalar to a Python list?\u001B[0m\u001B[0;34m\u001B[0m\u001B[0;34m\u001B[0m\u001B[0m\n\u001B[0;32m----> 2\u001B[0;31m \u001B[0mdata1\u001B[0m \u001B[0;34m+\u001B[0m \u001B[0;36m2\u001B[0m \u001B[0;31m# Impossible\u001B[0m\u001B[0;34m\u001B[0m\u001B[0;34m\u001B[0m\u001B[0m\n\u001B[0m",
      "\u001B[0;31mTypeError\u001B[0m: can only concatenate list (not \"int\") to list"
     ]
    }
   ]
  },
  {
   "cell_type": "code",
   "source": [
    "# adding a scalar to a numpy array\n",
    "arr1 + 2"
   ],
   "metadata": {
    "colab": {
     "base_uri": "https://localhost:8080/"
    },
    "id": "s5bJoo1lrwDy",
    "outputId": "ae8e918b-3d46-4502-cba9-7c1a71c49d6c",
    "pycharm": {
     "name": "#%%\n"
    }
   },
   "execution_count": null,
   "outputs": []
  },
  {
   "cell_type": "code",
   "source": [
    "# adding two lists in Python appends all items of second to first\n",
    "data1 + data1"
   ],
   "metadata": {
    "colab": {
     "base_uri": "https://localhost:8080/"
    },
    "id": "m2btnTE7r0QQ",
    "outputId": "755400c7-6250-43f5-cb1a-b067adf5c871",
    "pycharm": {
     "name": "#%%\n"
    }
   },
   "execution_count": null,
   "outputs": []
  },
  {
   "cell_type": "code",
   "source": [
    "# adding two numpy arrays does element-wise addition, must in same size\n",
    "arr1 + arr1"
   ],
   "metadata": {
    "colab": {
     "base_uri": "https://localhost:8080/"
    },
    "id": "ZFagLOb4r3uL",
    "outputId": "733921d8-27ad-472d-92f6-014583e419fd",
    "pycharm": {
     "name": "#%%\n"
    }
   },
   "execution_count": null,
   "outputs": []
  },
  {
   "cell_type": "code",
   "source": [
    "arr2=np.array([1,2,3,4,5,6])\n",
    "arr1+arr2 "
   ],
   "metadata": {
    "colab": {
     "base_uri": "https://localhost:8080/"
    },
    "id": "vW_3Hgjpr7Zh",
    "outputId": "ccf8d3c6-a6f6-4114-d8ce-d66b506f470e",
    "pycharm": {
     "name": "#%%\n"
    }
   },
   "execution_count": null,
   "outputs": []
  },
  {
   "cell_type": "markdown",
   "source": [
    "### Every Numpy array has a type"
   ],
   "metadata": {
    "id": "BH2Y3WOysJ4i",
    "pycharm": {
     "name": "#%% md\n"
    }
   }
  },
  {
   "cell_type": "code",
   "source": [
    "data1 = [3, 2.8, 19, 5, 17.6, 5.1]\n",
    "arr1 = np.array(data1)\n",
    "print(arr1.dtype)\n",
    "\n",
    "num1 = np.array([1,2,3,4,5])\n",
    "print(num1.dtype)\n",
    "\n",
    "str1 = np.array(['Hello','Good morning','Thursday'])\n",
    "print(str1.dtype)\n",
    "\n",
    "bool1 = np.array([True,True,False,True])\n",
    "print(bool1.dtype)"
   ],
   "metadata": {
    "colab": {
     "base_uri": "https://localhost:8080/"
    },
    "id": "lHcns10PsOy4",
    "outputId": "10acc552-9f2d-4a47-d05d-c5d46fa34e35",
    "pycharm": {
     "name": "#%%\n"
    }
   },
   "execution_count": 11,
   "outputs": [
    {
     "name": "stdout",
     "output_type": "stream",
     "text": [
      "float64\n",
      "int64\n",
      "<U12\n",
      "bool\n"
     ]
    }
   ]
  },
  {
   "cell_type": "markdown",
   "source": [
    "### Every Numpy array has a shape"
   ],
   "metadata": {
    "id": "uC062Ng4seHb",
    "pycharm": {
     "name": "#%% md\n"
    }
   }
  },
  {
   "cell_type": "code",
   "source": [
    "arr1.shape"
   ],
   "metadata": {
    "colab": {
     "base_uri": "https://localhost:8080/"
    },
    "id": "J1LSWjVzsmPg",
    "outputId": "19c8b70e-4193-4ebc-c264-e0190eecfdb9",
    "pycharm": {
     "name": "#%%\n"
    }
   },
   "execution_count": 12,
   "outputs": [
    {
     "data": {
      "text/plain": "(6,)"
     },
     "execution_count": 12,
     "metadata": {},
     "output_type": "execute_result"
    }
   ]
  },
  {
   "cell_type": "code",
   "source": [
    "arr2d = np.array([[1,2,3],[4,5,6]])  # input is nested list\n",
    "print(arr2d)\n",
    "print(arr2d.dtype)\n",
    "print(arr2d.shape)   # 2 rows, 3 columns"
   ],
   "metadata": {
    "colab": {
     "base_uri": "https://localhost:8080/"
    },
    "id": "AQ93yy3WspZ6",
    "outputId": "30da08c6-4472-401b-ba3f-6b7b9f9bec8c",
    "pycharm": {
     "name": "#%%\n"
    }
   },
   "execution_count": 13,
   "outputs": [
    {
     "name": "stdout",
     "output_type": "stream",
     "text": [
      "[[1 2 3]\n",
      " [4 5 6]]\n",
      "int64\n",
      "(2, 3)\n"
     ]
    }
   ]
  },
  {
   "cell_type": "markdown",
   "source": [
    "### Creating boilerplate NumPy arrays using special NumPy functions"
   ],
   "metadata": {
    "id": "W4IivnAms8uR",
    "pycharm": {
     "name": "#%% md\n"
    }
   }
  },
  {
   "cell_type": "markdown",
   "source": [
    "array initialized to zeros"
   ],
   "metadata": {
    "id": "4JCpaxb8tFdr",
    "pycharm": {
     "name": "#%% md\n"
    }
   }
  },
  {
   "cell_type": "code",
   "source": [
    "# array initialized to zeros\n",
    "zr = np.zeros(10)\n",
    "zr"
   ],
   "metadata": {
    "colab": {
     "base_uri": "https://localhost:8080/"
    },
    "id": "B0W4UfNdssXH",
    "outputId": "3429d8a6-f115-4f8e-a1ec-6e2e2e61a85a",
    "pycharm": {
     "name": "#%%\n"
    }
   },
   "execution_count": 14,
   "outputs": [
    {
     "data": {
      "text/plain": "array([0., 0., 0., 0., 0., 0., 0., 0., 0., 0.])"
     },
     "execution_count": 14,
     "metadata": {},
     "output_type": "execute_result"
    }
   ]
  },
  {
   "cell_type": "code",
   "source": [
    "zr2d = np.zeros((5,3))  # 5 x 3 array fileld with zeros\n",
    "zr2d"
   ],
   "metadata": {
    "colab": {
     "base_uri": "https://localhost:8080/"
    },
    "id": "ms-lv58UtIT3",
    "outputId": "b541ca28-08a1-43c7-ecf3-69609c463c47",
    "pycharm": {
     "name": "#%%\n"
    }
   },
   "execution_count": 15,
   "outputs": [
    {
     "data": {
      "text/plain": "array([[0., 0., 0.],\n       [0., 0., 0.],\n       [0., 0., 0.],\n       [0., 0., 0.],\n       [0., 0., 0.]])"
     },
     "execution_count": 15,
     "metadata": {},
     "output_type": "execute_result"
    }
   ]
  },
  {
   "cell_type": "code",
   "source": [
    "zr2d = np.zeros(5,3)   # won't work, shape argument must be a tuple, except for 1-d\n",
    "zr2d "
   ],
   "metadata": {
    "colab": {
     "base_uri": "https://localhost:8080/",
     "height": 183
    },
    "id": "BVaFYSzUtO_p",
    "outputId": "c7f712db-11f1-460e-e3a6-33ec26504d82",
    "pycharm": {
     "name": "#%%\n"
    }
   },
   "execution_count": 16,
   "outputs": [
    {
     "ename": "TypeError",
     "evalue": "Cannot interpret '3' as a data type",
     "output_type": "error",
     "traceback": [
      "\u001B[0;31m---------------------------------------------------------------------------\u001B[0m",
      "\u001B[0;31mTypeError\u001B[0m                                 Traceback (most recent call last)",
      "\u001B[0;32m/var/folders/x3/d9wqpd_j1mz8xzmnqzq0z_vr0000gn/T/ipykernel_7256/633614460.py\u001B[0m in \u001B[0;36m<module>\u001B[0;34m\u001B[0m\n\u001B[0;32m----> 1\u001B[0;31m \u001B[0mzr2d\u001B[0m \u001B[0;34m=\u001B[0m \u001B[0mnp\u001B[0m\u001B[0;34m.\u001B[0m\u001B[0mzeros\u001B[0m\u001B[0;34m(\u001B[0m\u001B[0;36m5\u001B[0m\u001B[0;34m,\u001B[0m\u001B[0;36m3\u001B[0m\u001B[0;34m)\u001B[0m   \u001B[0;31m# won't work, shape argument must be a tuple, except for 1-d\u001B[0m\u001B[0;34m\u001B[0m\u001B[0;34m\u001B[0m\u001B[0m\n\u001B[0m\u001B[1;32m      2\u001B[0m \u001B[0mzr2d\u001B[0m\u001B[0;34m\u001B[0m\u001B[0;34m\u001B[0m\u001B[0m\n",
      "\u001B[0;31mTypeError\u001B[0m: Cannot interpret '3' as a data type"
     ]
    }
   ]
  },
  {
   "cell_type": "markdown",
   "source": [
    "array initialized to ones"
   ],
   "metadata": {
    "id": "Sr5C9vMYtXiS",
    "pycharm": {
     "name": "#%% md\n"
    }
   }
  },
  {
   "cell_type": "code",
   "source": [
    "ones2d = np.ones((3,4))\n",
    "ones2d"
   ],
   "metadata": {
    "colab": {
     "base_uri": "https://localhost:8080/"
    },
    "id": "EhgCSLKptUuN",
    "outputId": "8b2b5d06-99b1-42dd-c3e6-b7b4df644c0a",
    "pycharm": {
     "name": "#%%\n"
    }
   },
   "execution_count": 17,
   "outputs": [
    {
     "data": {
      "text/plain": "array([[1., 1., 1., 1.],\n       [1., 1., 1., 1.],\n       [1., 1., 1., 1.]])"
     },
     "execution_count": 17,
     "metadata": {},
     "output_type": "execute_result"
    }
   ]
  },
  {
   "cell_type": "code",
   "source": [
    "# use dtype argument to set type to int instead of default float\n",
    "ones2d = np.ones((3,4),dtype=int)\n",
    "ones2d"
   ],
   "metadata": {
    "colab": {
     "base_uri": "https://localhost:8080/"
    },
    "id": "WaF7f4fPtd8S",
    "outputId": "3576acb5-f949-4b77-a244-0ec3eccf5713",
    "pycharm": {
     "name": "#%%\n"
    }
   },
   "execution_count": 18,
   "outputs": [
    {
     "data": {
      "text/plain": "array([[1, 1, 1, 1],\n       [1, 1, 1, 1],\n       [1, 1, 1, 1]])"
     },
     "execution_count": 18,
     "metadata": {},
     "output_type": "execute_result"
    }
   ]
  },
  {
   "cell_type": "markdown",
   "source": [
    "Identity matrix (square matrix with 1s on main diagonal)"
   ],
   "metadata": {
    "id": "-q93jEdStk4_",
    "pycharm": {
     "name": "#%% md\n"
    }
   }
  },
  {
   "cell_type": "code",
   "source": [
    "np.eye(3)  # single parametr because matrix is square"
   ],
   "metadata": {
    "colab": {
     "base_uri": "https://localhost:8080/"
    },
    "id": "wYov1twFtl2o",
    "outputId": "93d55f07-4ed2-4d52-b474-513c69220fa1",
    "pycharm": {
     "name": "#%%\n"
    }
   },
   "execution_count": 19,
   "outputs": [
    {
     "data": {
      "text/plain": "array([[1., 0., 0.],\n       [0., 1., 0.],\n       [0., 0., 1.]])"
     },
     "execution_count": 19,
     "metadata": {},
     "output_type": "execute_result"
    }
   ]
  },
  {
   "cell_type": "markdown",
   "source": [
    "Using arange function. It's the numpy array equivalent of Python range function"
   ],
   "metadata": {
    "id": "oz-MZlvqtsEq",
    "pycharm": {
     "name": "#%% md\n"
    }
   }
  },
  {
   "cell_type": "code",
   "source": [
    "np.arange(5) # from 0 to 4 (5 numbers)"
   ],
   "metadata": {
    "colab": {
     "base_uri": "https://localhost:8080/"
    },
    "id": "Hixandt0ts56",
    "outputId": "8554d72e-2b76-43ec-d385-189a40c2400c",
    "pycharm": {
     "name": "#%%\n"
    }
   },
   "execution_count": 20,
   "outputs": [
    {
     "data": {
      "text/plain": "array([0, 1, 2, 3, 4])"
     },
     "execution_count": 20,
     "metadata": {},
     "output_type": "execute_result"
    }
   ]
  },
  {
   "cell_type": "code",
   "source": [
    "np.arange(-3,3,2) # from -3 to 2. Each time we increment the number by 2 (The third argument is 2)"
   ],
   "metadata": {
    "colab": {
     "base_uri": "https://localhost:8080/"
    },
    "id": "CslQTUZTtwqJ",
    "outputId": "49bfc0c0-7eef-4fa6-f525-a43308b3d0bc",
    "pycharm": {
     "name": "#%%\n"
    }
   },
   "execution_count": 21,
   "outputs": [
    {
     "data": {
      "text/plain": "array([-3, -1,  1])"
     },
     "execution_count": 21,
     "metadata": {},
     "output_type": "execute_result"
    }
   ]
  },
  {
   "cell_type": "code",
   "source": [
    "np.arange(5,-2,-1)"
   ],
   "metadata": {
    "colab": {
     "base_uri": "https://localhost:8080/"
    },
    "id": "up7EbNzXuCJD",
    "outputId": "b7671167-f5d1-409c-c5d6-cf0c3ee0ab2c",
    "pycharm": {
     "name": "#%%\n"
    }
   },
   "execution_count": 22,
   "outputs": [
    {
     "data": {
      "text/plain": "array([ 5,  4,  3,  2,  1,  0, -1])"
     },
     "execution_count": 22,
     "metadata": {},
     "output_type": "execute_result"
    }
   ]
  },
  {
   "cell_type": "markdown",
   "source": [
    "Reshaping an ndarray"
   ],
   "metadata": {
    "id": "_E7Xh3JUuOF_",
    "pycharm": {
     "name": "#%% md\n"
    }
   }
  },
  {
   "cell_type": "code",
   "source": [
    "np.arange(15).reshape(3,5)   # reshape can be used on any ndarray"
   ],
   "metadata": {
    "colab": {
     "base_uri": "https://localhost:8080/"
    },
    "id": "4jXacwiZuO-9",
    "outputId": "7430408e-6507-40d3-a5ee-c975544ff0da",
    "pycharm": {
     "name": "#%%\n"
    }
   },
   "execution_count": 23,
   "outputs": [
    {
     "data": {
      "text/plain": "array([[ 0,  1,  2,  3,  4],\n       [ 5,  6,  7,  8,  9],\n       [10, 11, 12, 13, 14]])"
     },
     "execution_count": 23,
     "metadata": {},
     "output_type": "execute_result"
    }
   ]
  },
  {
   "cell_type": "code",
   "source": [
    "arr2d = np.array([[1,2,3],[4,5,6]])\n",
    "arr2d.reshape(6)"
   ],
   "metadata": {
    "colab": {
     "base_uri": "https://localhost:8080/"
    },
    "id": "rS-NeInIuRyc",
    "outputId": "33bf41e6-e624-48c5-e021-881e509b78c7",
    "pycharm": {
     "name": "#%%\n"
    }
   },
   "execution_count": 24,
   "outputs": [
    {
     "data": {
      "text/plain": "array([1, 2, 3, 4, 5, 6])"
     },
     "execution_count": 24,
     "metadata": {},
     "output_type": "execute_result"
    }
   ]
  },
  {
   "cell_type": "markdown",
   "source": [
    "### Array-array and array-scalar operations"
   ],
   "metadata": {
    "id": "jFrkzzEbufIg",
    "pycharm": {
     "name": "#%% md\n"
    }
   }
  },
  {
   "cell_type": "code",
   "source": [
    "arr = np.array([[1,2,3],[4,5,6]])\n",
    "arr2=np.array([[1,1,1],[1,1,1]])\n",
    "arr*arr2 # corresponding elements are multiplied"
   ],
   "metadata": {
    "colab": {
     "base_uri": "https://localhost:8080/"
    },
    "id": "zST30GO4ueh_",
    "outputId": "daf742e5-ea8c-49b8-dcbe-ec49f95c9a41",
    "pycharm": {
     "name": "#%%\n"
    }
   },
   "execution_count": 25,
   "outputs": [
    {
     "data": {
      "text/plain": "array([[1, 2, 3],\n       [4, 5, 6]])"
     },
     "execution_count": 25,
     "metadata": {},
     "output_type": "execute_result"
    }
   ]
  },
  {
   "cell_type": "code",
   "source": [
    "arr*arr # Note that this is not matrix multiplication"
   ],
   "metadata": {
    "colab": {
     "base_uri": "https://localhost:8080/"
    },
    "id": "ops0R0LKu2Nd",
    "outputId": "b4580abc-6f55-43e4-ac15-0e6b21c596f6",
    "pycharm": {
     "name": "#%%\n"
    }
   },
   "execution_count": 26,
   "outputs": [
    {
     "data": {
      "text/plain": "array([[ 1,  4,  9],\n       [16, 25, 36]])"
     },
     "execution_count": 26,
     "metadata": {},
     "output_type": "execute_result"
    }
   ]
  },
  {
   "cell_type": "code",
   "source": [
    "arr + arr  # corresponding elements are added"
   ],
   "metadata": {
    "colab": {
     "base_uri": "https://localhost:8080/"
    },
    "id": "TVBV3-uau74j",
    "outputId": "c09d5ced-a00a-4166-f2fa-175b0789af6d",
    "pycharm": {
     "name": "#%%\n"
    }
   },
   "execution_count": 27,
   "outputs": [
    {
     "data": {
      "text/plain": "array([[ 2,  4,  6],\n       [ 8, 10, 12]])"
     },
     "execution_count": 27,
     "metadata": {},
     "output_type": "execute_result"
    }
   ]
  },
  {
   "cell_type": "code",
   "source": [
    "1/arr  # invert each element"
   ],
   "metadata": {
    "colab": {
     "base_uri": "https://localhost:8080/"
    },
    "id": "1LcKRoS4u-IT",
    "outputId": "68844895-120f-42b2-8909-dbb14b657140",
    "pycharm": {
     "name": "#%%\n"
    }
   },
   "execution_count": 28,
   "outputs": [
    {
     "data": {
      "text/plain": "array([[1.        , 0.5       , 0.33333333],\n       [0.25      , 0.2       , 0.16666667]])"
     },
     "execution_count": 28,
     "metadata": {},
     "output_type": "execute_result"
    }
   ]
  },
  {
   "cell_type": "code",
   "source": [
    "arr ** 2  # square each element"
   ],
   "metadata": {
    "colab": {
     "base_uri": "https://localhost:8080/"
    },
    "id": "w5Ziw-0uvCg1",
    "outputId": "de617236-9b18-40a6-e430-a481a221d222",
    "pycharm": {
     "name": "#%%\n"
    }
   },
   "execution_count": 29,
   "outputs": [
    {
     "data": {
      "text/plain": "array([[ 1,  4,  9],\n       [16, 25, 36]])"
     },
     "execution_count": 29,
     "metadata": {},
     "output_type": "execute_result"
    }
   ]
  },
  {
   "cell_type": "code",
   "source": [
    "np.power(arr,2) # Another way to square each element"
   ],
   "metadata": {
    "colab": {
     "base_uri": "https://localhost:8080/"
    },
    "id": "Dij5h2UAvFd_",
    "outputId": "32270744-b573-4b2a-ca45-8ff817d6a554",
    "pycharm": {
     "name": "#%%\n"
    }
   },
   "execution_count": 30,
   "outputs": [
    {
     "data": {
      "text/plain": "array([[ 1,  4,  9],\n       [16, 25, 36]])"
     },
     "execution_count": 30,
     "metadata": {},
     "output_type": "execute_result"
    }
   ]
  },
  {
   "cell_type": "markdown",
   "source": [
    "### Indexing and Slicing"
   ],
   "metadata": {
    "id": "N85Ixv8Dvhkq",
    "pycharm": {
     "name": "#%% md\n"
    }
   }
  },
  {
   "cell_type": "code",
   "source": [
    "arr = np.arange(10)\n",
    "arr"
   ],
   "metadata": {
    "colab": {
     "base_uri": "https://localhost:8080/"
    },
    "id": "zBfnrmxQveHo",
    "outputId": "3ac9f9a8-ba69-4557-b0ac-77077881305f",
    "pycharm": {
     "name": "#%%\n"
    }
   },
   "execution_count": 31,
   "outputs": [
    {
     "data": {
      "text/plain": "array([0, 1, 2, 3, 4, 5, 6, 7, 8, 9])"
     },
     "execution_count": 31,
     "metadata": {},
     "output_type": "execute_result"
    }
   ]
  },
  {
   "cell_type": "code",
   "source": [
    "arr[5:8] # Extract only the fifth, sixth, and eighth elements."
   ],
   "metadata": {
    "colab": {
     "base_uri": "https://localhost:8080/"
    },
    "id": "I2RhVxPXvl1w",
    "outputId": "e56b77fc-5051-4626-e957-f73c26d948fb",
    "pycharm": {
     "name": "#%%\n"
    }
   },
   "execution_count": 32,
   "outputs": [
    {
     "data": {
      "text/plain": "array([5, 6, 7])"
     },
     "execution_count": 32,
     "metadata": {},
     "output_type": "execute_result"
    }
   ]
  },
  {
   "cell_type": "code",
   "source": [
    "myarr = np.arange(1,10).reshape(3,3)\n",
    "myarr"
   ],
   "metadata": {
    "colab": {
     "base_uri": "https://localhost:8080/"
    },
    "id": "2dQ0jzoJv1OO",
    "outputId": "297cc31c-d9a3-4898-ef95-5c5016b62363",
    "pycharm": {
     "name": "#%%\n"
    }
   },
   "execution_count": 33,
   "outputs": [
    {
     "data": {
      "text/plain": "array([[1, 2, 3],\n       [4, 5, 6],\n       [7, 8, 9]])"
     },
     "execution_count": 33,
     "metadata": {},
     "output_type": "execute_result"
    }
   ]
  },
  {
   "cell_type": "code",
   "source": [
    "myarr[1] = [-1,-2,-3]  # update 2nd row of array\n",
    "myarr"
   ],
   "metadata": {
    "colab": {
     "base_uri": "https://localhost:8080/"
    },
    "id": "XrakFukAv2Je",
    "outputId": "c0989e51-d24f-4e9b-9dc9-e66ba997f6a2",
    "pycharm": {
     "name": "#%%\n"
    }
   },
   "execution_count": 34,
   "outputs": [
    {
     "data": {
      "text/plain": "array([[ 1,  2,  3],\n       [-1, -2, -3],\n       [ 7,  8,  9]])"
     },
     "execution_count": 34,
     "metadata": {},
     "output_type": "execute_result"
    }
   ]
  },
  {
   "cell_type": "code",
   "source": [
    "myarr[:,2] = -1   # update 2nd column of array\n",
    "myarr"
   ],
   "metadata": {
    "colab": {
     "base_uri": "https://localhost:8080/"
    },
    "id": "v4r4CZQYv6Xc",
    "outputId": "d1b9b83b-aa84-474b-9ff0-d1d4be35a978",
    "pycharm": {
     "name": "#%%\n"
    }
   },
   "execution_count": 35,
   "outputs": [
    {
     "data": {
      "text/plain": "array([[ 1,  2, -1],\n       [-1, -2, -1],\n       [ 7,  8, -1]])"
     },
     "execution_count": 35,
     "metadata": {},
     "output_type": "execute_result"
    }
   ]
  },
  {
   "cell_type": "code",
   "source": [
    "# extract multiple rows\n",
    "myarr[[0,2],:] #first and third rows"
   ],
   "metadata": {
    "colab": {
     "base_uri": "https://localhost:8080/"
    },
    "id": "Jmr3do3twfjr",
    "outputId": "43c7108f-e59c-41ca-bb4d-40c085b2641c",
    "pycharm": {
     "name": "#%%\n"
    }
   },
   "execution_count": 36,
   "outputs": [
    {
     "data": {
      "text/plain": "array([[ 1,  2, -1],\n       [ 7,  8, -1]])"
     },
     "execution_count": 36,
     "metadata": {},
     "output_type": "execute_result"
    }
   ]
  },
  {
   "cell_type": "markdown",
   "source": [
    "### Practice problem 1:\n",
    "\n",
    "Given a 2d array 'narr' with size 8*4 (8 rows, 4 columns), I want an array compose of all even columns, which are the second and the fourth columns.\n",
    "\n",
    "narr=[\n",
    "\n",
    " [ 0  1  2  3]\n",
    " \n",
    " [ 4  5  6  7]\n",
    " \n",
    " [ 8  9 10 11]\n",
    " \n",
    " [12 13 14 15]\n",
    " \n",
    " [16 17 18 19]\n",
    " \n",
    " [20 21 22 23]\n",
    " \n",
    " [24 25 26 27]\n",
    " \n",
    " [28 29 30 31]\n",
    "\n",
    " ]  \n",
    "\n",
    " Your result should be:\n",
    " [\n",
    "  \n",
    "  [ 1  3]\n",
    "  \n",
    "  [ 5  7]\n",
    "  \n",
    "  [ 9 11]\n",
    "  \n",
    "  [13 15]\n",
    "  \n",
    "  [17 19]\n",
    "  \n",
    "  [21 23]\n",
    "  \n",
    "  [25 27]\n",
    "  \n",
    "  [29 31]\n",
    "\n",
    "  ]"
   ],
   "metadata": {
    "id": "m3uDRQDlwEMQ",
    "pycharm": {
     "name": "#%% md\n"
    }
   }
  },
  {
   "cell_type": "code",
   "source": [
    "# this is the array\n",
    "narr = np.arange(32).reshape(8,4)\n",
    "print(narr)"
   ],
   "metadata": {
    "colab": {
     "base_uri": "https://localhost:8080/"
    },
    "id": "U51ixrfsv_TV",
    "outputId": "0c5a658d-7e06-44dc-9095-13bc51a253d8",
    "pycharm": {
     "name": "#%%\n"
    }
   },
   "execution_count": 37,
   "outputs": [
    {
     "name": "stdout",
     "output_type": "stream",
     "text": [
      "[[ 0  1  2  3]\n",
      " [ 4  5  6  7]\n",
      " [ 8  9 10 11]\n",
      " [12 13 14 15]\n",
      " [16 17 18 19]\n",
      " [20 21 22 23]\n",
      " [24 25 26 27]\n",
      " [28 29 30 31]]\n"
     ]
    }
   ]
  },
  {
   "cell_type": "code",
   "source": [
    "# Please write your code here\n",
    "transpose = narr[:, [1,3]]\n",
    "transpose"
   ],
   "metadata": {
    "id": "bfigZFUsxUHn",
    "pycharm": {
     "name": "#%%\n"
    }
   },
   "execution_count": 41,
   "outputs": [
    {
     "data": {
      "text/plain": "array([[ 1,  3],\n       [ 5,  7],\n       [ 9, 11],\n       [13, 15],\n       [17, 19],\n       [21, 23],\n       [25, 27],\n       [29, 31]])"
     },
     "execution_count": 41,
     "metadata": {},
     "output_type": "execute_result"
    }
   ]
  },
  {
   "cell_type": "markdown",
   "source": [
    "### indexing several scattered items in one shot"
   ],
   "metadata": {
    "id": "V4y7n_mLyh_L",
    "pycharm": {
     "name": "#%% md\n"
    }
   }
  },
  {
   "cell_type": "code",
   "source": [
    "narr[[2,4,0,7]]  # rows as specified"
   ],
   "metadata": {
    "colab": {
     "base_uri": "https://localhost:8080/"
    },
    "id": "3-BOaiuxzGnR",
    "outputId": "46c1e310-4080-4265-d811-f594844a7148",
    "pycharm": {
     "name": "#%%\n"
    }
   },
   "execution_count": 42,
   "outputs": [
    {
     "data": {
      "text/plain": "array([[ 8,  9, 10, 11],\n       [16, 17, 18, 19],\n       [ 0,  1,  2,  3],\n       [28, 29, 30, 31]])"
     },
     "execution_count": 42,
     "metadata": {},
     "output_type": "execute_result"
    }
   ]
  },
  {
   "cell_type": "code",
   "source": [
    "narr[:,[2,0,3]]  # columns as specified"
   ],
   "metadata": {
    "colab": {
     "base_uri": "https://localhost:8080/"
    },
    "id": "y19EuZiDzQPn",
    "outputId": "b490ccc7-6e5b-4ddc-b46c-190687efa625",
    "pycharm": {
     "name": "#%%\n"
    }
   },
   "execution_count": 43,
   "outputs": [
    {
     "data": {
      "text/plain": "array([[ 2,  0,  3],\n       [ 6,  4,  7],\n       [10,  8, 11],\n       [14, 12, 15],\n       [18, 16, 19],\n       [22, 20, 23],\n       [26, 24, 27],\n       [30, 28, 31]])"
     },
     "execution_count": 43,
     "metadata": {},
     "output_type": "execute_result"
    }
   ]
  },
  {
   "cell_type": "code",
   "source": [
    "narr[[2,4,0,7],[1,2,0,3]]  # selects [2,1],[4,2],[0,0],[7,3]"
   ],
   "metadata": {
    "colab": {
     "base_uri": "https://localhost:8080/"
    },
    "id": "404DZOaUyhFu",
    "outputId": "eb5db12b-410c-415a-c6b6-802449e96dc3",
    "pycharm": {
     "name": "#%%\n"
    }
   },
   "execution_count": 44,
   "outputs": [
    {
     "data": {
      "text/plain": "array([ 9, 18,  0, 31])"
     },
     "execution_count": 44,
     "metadata": {},
     "output_type": "execute_result"
    }
   ]
  },
  {
   "cell_type": "code",
   "source": [
    "# shuffle rows and columns\n",
    "narr_subrows = narr[[2,4,0,7]]\n",
    "print(narr_subrows,'\\n')\n",
    "narr_subrows_shuffle = narr_subrows[:,[1,2,3,0]]\n",
    "print(narr_subrows_shuffle)"
   ],
   "metadata": {
    "colab": {
     "base_uri": "https://localhost:8080/"
    },
    "id": "CKce5C4mzl90",
    "outputId": "bc4b2a5d-d45b-412e-acc4-bcad5470165a",
    "pycharm": {
     "name": "#%%\n"
    }
   },
   "execution_count": 47,
   "outputs": [
    {
     "name": "stdout",
     "output_type": "stream",
     "text": [
      "[[ 8  9 10 11]\n",
      " [16 17 18 19]\n",
      " [ 0  1  2  3]\n",
      " [28 29 30 31]] \n",
      "\n",
      "[[ 9 10 11  8]\n",
      " [17 18 19 16]\n",
      " [ 1  2  3  0]\n",
      " [29 30 31 28]]\n"
     ]
    }
   ]
  },
  {
   "cell_type": "code",
   "source": [
    "narr[[2,4,0,7]][:,[1,2,3,0]]  # the above is equivalent to "
   ],
   "metadata": {
    "colab": {
     "base_uri": "https://localhost:8080/"
    },
    "id": "vF2VIpd3zMVT",
    "outputId": "a2abb1d7-1d0e-499a-df8b-efe016ee30aa",
    "pycharm": {
     "name": "#%%\n"
    }
   },
   "execution_count": 48,
   "outputs": [
    {
     "data": {
      "text/plain": "array([[ 9, 10, 11,  8],\n       [17, 18, 19, 16],\n       [ 1,  2,  3,  0],\n       [29, 30, 31, 28]])"
     },
     "execution_count": 48,
     "metadata": {},
     "output_type": "execute_result"
    }
   ]
  },
  {
   "cell_type": "markdown",
   "source": [
    "### Practice Problem 2\n",
    "\n",
    "We want to shuffle an 2d array using the followiing rules: the first row of the orignal array will become the last row of the shuffled array, and the last row of the orignal array is the first row of the shuffled array. The second row of the orignal array will become the second to last row in the shuffled array, and the the second to last row of the orignal array is the second row in the shuffled array. And so on. You will shuffle every row. Then, you need to shuffle the columns following the similar rule. The first column of the orignal array will become the last column of the shuffled array and the last column in the original array is the first row in the shuffled array. The second row of the orignal array will become the second to last row in the shuffled array, and the the second to last row of the orignal array is the second row in the shuffled array. And so on\n",
    "\n",
    "For example, if the original array is \n",
    "\n",
    "[\n",
    "\n",
    "[1 2]\n",
    "\n",
    "[3 4]\n",
    "\n",
    "[5 6]\n",
    "\n",
    "]\n",
    "\n",
    "Then, the shuffled array is\n",
    "[\n",
    "\n",
    "[6 5]\n",
    "\n",
    "\n",
    "[4 3]\n",
    "\n",
    "[2 1]\n",
    "\n",
    "]\n",
    "\n",
    "Please write a functiom that can shuffle any 2d array. You can assume the array always have more than 1 row and 1 column."
   ],
   "metadata": {
    "id": "kV5dy_v5z8FV",
    "pycharm": {
     "name": "#%% md\n"
    }
   }
  },
  {
   "cell_type": "code",
   "source": [
    "#Please complete this function\n",
    "\n",
    "def shuffle_array(arr):\n",
    "\n",
    "    arrrows = arr[[2,1,0]]\n",
    "    arrcolumns = arrrows[:,[1,0]]\n",
    "\n",
    "    return arrcolumns\n"
   ],
   "metadata": {
    "id": "oom8u3UkzhQ8",
    "pycharm": {
     "name": "#%%\n"
    }
   },
   "execution_count": 49,
   "outputs": []
  },
  {
   "cell_type": "code",
   "source": [
    "test_case=np.array([[1,2],[3,4],[5,6]]) # This is the example in the practice problem\n",
    "shuffle_array(test_case)"
   ],
   "metadata": {
    "id": "vAH_t5373Z9o",
    "pycharm": {
     "name": "#%%\n"
    }
   },
   "execution_count": 50,
   "outputs": [
    {
     "data": {
      "text/plain": "array([[6, 5],\n       [4, 3],\n       [2, 1]])"
     },
     "execution_count": 50,
     "metadata": {},
     "output_type": "execute_result"
    }
   ]
  },
  {
   "cell_type": "markdown",
   "source": [
    "### Filtering by values"
   ],
   "metadata": {
    "id": "4pcZw-dY6utJ",
    "pycharm": {
     "name": "#%% md\n"
    }
   }
  },
  {
   "cell_type": "code",
   "source": [
    "arr=np.arange(9)\n",
    "arr"
   ],
   "metadata": {
    "colab": {
     "base_uri": "https://localhost:8080/"
    },
    "id": "9czwVu5ybuBd",
    "outputId": "2d2e533d-40eb-42e0-94c1-48de51c80f1b",
    "pycharm": {
     "name": "#%%\n"
    }
   },
   "execution_count": 51,
   "outputs": [
    {
     "data": {
      "text/plain": "array([0, 1, 2, 3, 4, 5, 6, 7, 8])"
     },
     "execution_count": 51,
     "metadata": {},
     "output_type": "execute_result"
    }
   ]
  },
  {
   "cell_type": "code",
   "source": [
    "arr>4"
   ],
   "metadata": {
    "colab": {
     "base_uri": "https://localhost:8080/"
    },
    "id": "0Jgj_C1lMv0z",
    "outputId": "77ba1d61-dc1a-4340-96ec-ab153426446b",
    "pycharm": {
     "name": "#%%\n"
    }
   },
   "execution_count": 52,
   "outputs": [
    {
     "data": {
      "text/plain": "array([False, False, False, False, False,  True,  True,  True,  True])"
     },
     "execution_count": 52,
     "metadata": {},
     "output_type": "execute_result"
    }
   ]
  },
  {
   "cell_type": "code",
   "source": [
    "slc = arr[arr > 4]  # pick elements > 4\n",
    "slc"
   ],
   "metadata": {
    "colab": {
     "base_uri": "https://localhost:8080/"
    },
    "id": "DJpx6K7XMyVN",
    "outputId": "c94ad144-36b2-4b6a-d4e6-721a9e011acf",
    "pycharm": {
     "name": "#%%\n"
    }
   },
   "execution_count": 53,
   "outputs": [
    {
     "data": {
      "text/plain": "array([5, 6, 7, 8])"
     },
     "execution_count": 53,
     "metadata": {},
     "output_type": "execute_result"
    }
   ]
  },
  {
   "cell_type": "code",
   "source": [
    "arr2d = np.arange(1,13).reshape(4,3)\n",
    "arr2d"
   ],
   "metadata": {
    "colab": {
     "base_uri": "https://localhost:8080/"
    },
    "id": "QBvZ8jJ2NADA",
    "outputId": "6b3566a7-75c7-4db8-b84c-67098fcad7d3",
    "pycharm": {
     "name": "#%%\n"
    }
   },
   "execution_count": 54,
   "outputs": [
    {
     "data": {
      "text/plain": "array([[ 1,  2,  3],\n       [ 4,  5,  6],\n       [ 7,  8,  9],\n       [10, 11, 12]])"
     },
     "execution_count": 54,
     "metadata": {},
     "output_type": "execute_result"
    }
   ]
  },
  {
   "cell_type": "code",
   "source": [
    "arr2d_slc = arr2d[[True,False,True,True]] # get all but 2nd row\n",
    "print(arr2d_slc)"
   ],
   "metadata": {
    "colab": {
     "base_uri": "https://localhost:8080/"
    },
    "id": "ZrYGp5bJNSeO",
    "outputId": "09a2bfa4-cd9c-4415-cc92-48b2f299978e",
    "pycharm": {
     "name": "#%%\n"
    }
   },
   "execution_count": 55,
   "outputs": [
    {
     "name": "stdout",
     "output_type": "stream",
     "text": [
      "[[ 1  2  3]\n",
      " [ 7  8  9]\n",
      " [10 11 12]]\n"
     ]
    }
   ]
  },
  {
   "cell_type": "markdown",
   "source": [
    "## Pandas\n",
    "\n",
    "This library is for loading and analyzing data.\n",
    "\n",
    "https://pandas.pydata.org/docs/user_guide/index.html"
   ],
   "metadata": {
    "id": "jFwdnn1INnkv",
    "pycharm": {
     "name": "#%% md\n"
    }
   }
  },
  {
   "cell_type": "code",
   "source": [
    "import numpy as np\n",
    "import pandas as pd\n",
    "from pandas import Series\n",
    "from pandas import DataFrame"
   ],
   "metadata": {
    "id": "_TVUPuaMNpuP",
    "pycharm": {
     "name": "#%%\n"
    }
   },
   "execution_count": 56,
   "outputs": []
  },
  {
   "cell_type": "markdown",
   "source": [
    "### Creating a DataFrame from a CSV file (typical usage)"
   ],
   "metadata": {
    "id": "klwn4On6R8wA",
    "pycharm": {
     "name": "#%% md\n"
    }
   }
  },
  {
   "cell_type": "code",
   "source": [
    "! git clone https://github.com/ping-shuo-hao/Factors-Associated-with-Railroad-Trespassing-Events.git # download the project to workspace in colab  "
   ],
   "metadata": {
    "colab": {
     "base_uri": "https://localhost:8080/"
    },
    "id": "f3l0gvvgOMK9",
    "outputId": "4f4a2eae-7da1-4123-e98d-a5a5cd68239c",
    "pycharm": {
     "name": "#%%\n"
    }
   },
   "execution_count": 60,
   "outputs": [
    {
     "name": "stdout",
     "output_type": "stream",
     "text": [
      "fatal: destination path 'Factors-Associated-with-Railroad-Trespassing-Events' already exists and is not an empty directory.\r\n"
     ]
    }
   ]
  },
  {
   "cell_type": "code",
   "source": [
    "mpgs = pd.read_csv(\"/Users/devam/PycharmProjects/GovSTEMStuff/Factors-Associated-with-Railroad-Trespassing-Events/workshops/auto_mpg_original.csv\")\n",
    "mpgs.head(10) # read file and print first 10 lines"
   ],
   "metadata": {
    "colab": {
     "base_uri": "https://localhost:8080/",
     "height": 363
    },
    "id": "Sb9RnTrhU1Vn",
    "outputId": "2fde7b1f-14db-4fda-d463-f580515ee2d4",
    "pycharm": {
     "name": "#%%\n"
    }
   },
   "execution_count": 63,
   "outputs": [
    {
     "data": {
      "text/plain": "    mpg  cylinders  displacement  horsepower  weight  acceleration  \\\n0  18.0        8.0         307.0       130.0  3504.0          12.0   \n1  15.0        8.0         350.0       165.0  3693.0          11.5   \n2  18.0        8.0         318.0       150.0  3436.0          11.0   \n3  16.0        8.0         304.0       150.0  3433.0          12.0   \n4  17.0        8.0         302.0       140.0  3449.0          10.5   \n5  15.0        8.0         429.0       198.0  4341.0          10.0   \n6  14.0        8.0         454.0       220.0  4354.0           9.0   \n7  14.0        8.0         440.0       215.0  4312.0           8.5   \n8  14.0        8.0         455.0       225.0  4425.0          10.0   \n9  15.0        8.0         390.0       190.0  3850.0           8.5   \n\n   model year  origin                   car name  \n0        70.0     1.0  chevrolet chevelle malibu  \n1        70.0     1.0          buick skylark 320  \n2        70.0     1.0         plymouth satellite  \n3        70.0     1.0              amc rebel sst  \n4        70.0     1.0                ford torino  \n5        70.0     1.0           ford galaxie 500  \n6        70.0     1.0           chevrolet impala  \n7        70.0     1.0          plymouth fury iii  \n8        70.0     1.0           pontiac catalina  \n9        70.0     1.0         amc ambassador dpl  ",
      "text/html": "<div>\n<style scoped>\n    .dataframe tbody tr th:only-of-type {\n        vertical-align: middle;\n    }\n\n    .dataframe tbody tr th {\n        vertical-align: top;\n    }\n\n    .dataframe thead th {\n        text-align: right;\n    }\n</style>\n<table border=\"1\" class=\"dataframe\">\n  <thead>\n    <tr style=\"text-align: right;\">\n      <th></th>\n      <th>mpg</th>\n      <th>cylinders</th>\n      <th>displacement</th>\n      <th>horsepower</th>\n      <th>weight</th>\n      <th>acceleration</th>\n      <th>model year</th>\n      <th>origin</th>\n      <th>car name</th>\n    </tr>\n  </thead>\n  <tbody>\n    <tr>\n      <th>0</th>\n      <td>18.0</td>\n      <td>8.0</td>\n      <td>307.0</td>\n      <td>130.0</td>\n      <td>3504.0</td>\n      <td>12.0</td>\n      <td>70.0</td>\n      <td>1.0</td>\n      <td>chevrolet chevelle malibu</td>\n    </tr>\n    <tr>\n      <th>1</th>\n      <td>15.0</td>\n      <td>8.0</td>\n      <td>350.0</td>\n      <td>165.0</td>\n      <td>3693.0</td>\n      <td>11.5</td>\n      <td>70.0</td>\n      <td>1.0</td>\n      <td>buick skylark 320</td>\n    </tr>\n    <tr>\n      <th>2</th>\n      <td>18.0</td>\n      <td>8.0</td>\n      <td>318.0</td>\n      <td>150.0</td>\n      <td>3436.0</td>\n      <td>11.0</td>\n      <td>70.0</td>\n      <td>1.0</td>\n      <td>plymouth satellite</td>\n    </tr>\n    <tr>\n      <th>3</th>\n      <td>16.0</td>\n      <td>8.0</td>\n      <td>304.0</td>\n      <td>150.0</td>\n      <td>3433.0</td>\n      <td>12.0</td>\n      <td>70.0</td>\n      <td>1.0</td>\n      <td>amc rebel sst</td>\n    </tr>\n    <tr>\n      <th>4</th>\n      <td>17.0</td>\n      <td>8.0</td>\n      <td>302.0</td>\n      <td>140.0</td>\n      <td>3449.0</td>\n      <td>10.5</td>\n      <td>70.0</td>\n      <td>1.0</td>\n      <td>ford torino</td>\n    </tr>\n    <tr>\n      <th>5</th>\n      <td>15.0</td>\n      <td>8.0</td>\n      <td>429.0</td>\n      <td>198.0</td>\n      <td>4341.0</td>\n      <td>10.0</td>\n      <td>70.0</td>\n      <td>1.0</td>\n      <td>ford galaxie 500</td>\n    </tr>\n    <tr>\n      <th>6</th>\n      <td>14.0</td>\n      <td>8.0</td>\n      <td>454.0</td>\n      <td>220.0</td>\n      <td>4354.0</td>\n      <td>9.0</td>\n      <td>70.0</td>\n      <td>1.0</td>\n      <td>chevrolet impala</td>\n    </tr>\n    <tr>\n      <th>7</th>\n      <td>14.0</td>\n      <td>8.0</td>\n      <td>440.0</td>\n      <td>215.0</td>\n      <td>4312.0</td>\n      <td>8.5</td>\n      <td>70.0</td>\n      <td>1.0</td>\n      <td>plymouth fury iii</td>\n    </tr>\n    <tr>\n      <th>8</th>\n      <td>14.0</td>\n      <td>8.0</td>\n      <td>455.0</td>\n      <td>225.0</td>\n      <td>4425.0</td>\n      <td>10.0</td>\n      <td>70.0</td>\n      <td>1.0</td>\n      <td>pontiac catalina</td>\n    </tr>\n    <tr>\n      <th>9</th>\n      <td>15.0</td>\n      <td>8.0</td>\n      <td>390.0</td>\n      <td>190.0</td>\n      <td>3850.0</td>\n      <td>8.5</td>\n      <td>70.0</td>\n      <td>1.0</td>\n      <td>amc ambassador dpl</td>\n    </tr>\n  </tbody>\n</table>\n</div>"
     },
     "execution_count": 63,
     "metadata": {},
     "output_type": "execute_result"
    }
   ]
  },
  {
   "cell_type": "code",
   "source": [
    "# summary stats for numeric columns in dataset\n",
    "mpgs.describe()"
   ],
   "metadata": {
    "colab": {
     "base_uri": "https://localhost:8080/",
     "height": 300
    },
    "id": "zRrTUE-iV64b",
    "outputId": "aaa10038-e963-41f7-cc17-55fda9a9aa26",
    "pycharm": {
     "name": "#%%\n"
    }
   },
   "execution_count": 65,
   "outputs": [
    {
     "data": {
      "text/plain": "              mpg   cylinders  displacement  horsepower       weight  \\\ncount  398.000000  406.000000    406.000000  400.000000   406.000000   \nmean    23.514573    5.475369    194.779557  105.082500  2979.413793   \nstd      7.815984    1.712160    104.922458   38.768779   847.004328   \nmin      9.000000    3.000000     68.000000   46.000000  1613.000000   \n25%     17.500000    4.000000    105.000000   75.750000  2226.500000   \n50%     23.000000    4.000000    151.000000   95.000000  2822.500000   \n75%     29.000000    8.000000    302.000000  130.000000  3618.250000   \nmax     46.600000    8.000000    455.000000  230.000000  5140.000000   \n\n       acceleration  model year      origin  \ncount    406.000000  406.000000  406.000000  \nmean      15.519704   75.921182    1.568966  \nstd        2.803359    3.748737    0.797479  \nmin        8.000000   70.000000    1.000000  \n25%       13.700000   73.000000    1.000000  \n50%       15.500000   76.000000    1.000000  \n75%       17.175000   79.000000    2.000000  \nmax       24.800000   82.000000    3.000000  ",
      "text/html": "<div>\n<style scoped>\n    .dataframe tbody tr th:only-of-type {\n        vertical-align: middle;\n    }\n\n    .dataframe tbody tr th {\n        vertical-align: top;\n    }\n\n    .dataframe thead th {\n        text-align: right;\n    }\n</style>\n<table border=\"1\" class=\"dataframe\">\n  <thead>\n    <tr style=\"text-align: right;\">\n      <th></th>\n      <th>mpg</th>\n      <th>cylinders</th>\n      <th>displacement</th>\n      <th>horsepower</th>\n      <th>weight</th>\n      <th>acceleration</th>\n      <th>model year</th>\n      <th>origin</th>\n    </tr>\n  </thead>\n  <tbody>\n    <tr>\n      <th>count</th>\n      <td>398.000000</td>\n      <td>406.000000</td>\n      <td>406.000000</td>\n      <td>400.000000</td>\n      <td>406.000000</td>\n      <td>406.000000</td>\n      <td>406.000000</td>\n      <td>406.000000</td>\n    </tr>\n    <tr>\n      <th>mean</th>\n      <td>23.514573</td>\n      <td>5.475369</td>\n      <td>194.779557</td>\n      <td>105.082500</td>\n      <td>2979.413793</td>\n      <td>15.519704</td>\n      <td>75.921182</td>\n      <td>1.568966</td>\n    </tr>\n    <tr>\n      <th>std</th>\n      <td>7.815984</td>\n      <td>1.712160</td>\n      <td>104.922458</td>\n      <td>38.768779</td>\n      <td>847.004328</td>\n      <td>2.803359</td>\n      <td>3.748737</td>\n      <td>0.797479</td>\n    </tr>\n    <tr>\n      <th>min</th>\n      <td>9.000000</td>\n      <td>3.000000</td>\n      <td>68.000000</td>\n      <td>46.000000</td>\n      <td>1613.000000</td>\n      <td>8.000000</td>\n      <td>70.000000</td>\n      <td>1.000000</td>\n    </tr>\n    <tr>\n      <th>25%</th>\n      <td>17.500000</td>\n      <td>4.000000</td>\n      <td>105.000000</td>\n      <td>75.750000</td>\n      <td>2226.500000</td>\n      <td>13.700000</td>\n      <td>73.000000</td>\n      <td>1.000000</td>\n    </tr>\n    <tr>\n      <th>50%</th>\n      <td>23.000000</td>\n      <td>4.000000</td>\n      <td>151.000000</td>\n      <td>95.000000</td>\n      <td>2822.500000</td>\n      <td>15.500000</td>\n      <td>76.000000</td>\n      <td>1.000000</td>\n    </tr>\n    <tr>\n      <th>75%</th>\n      <td>29.000000</td>\n      <td>8.000000</td>\n      <td>302.000000</td>\n      <td>130.000000</td>\n      <td>3618.250000</td>\n      <td>17.175000</td>\n      <td>79.000000</td>\n      <td>2.000000</td>\n    </tr>\n    <tr>\n      <th>max</th>\n      <td>46.600000</td>\n      <td>8.000000</td>\n      <td>455.000000</td>\n      <td>230.000000</td>\n      <td>5140.000000</td>\n      <td>24.800000</td>\n      <td>82.000000</td>\n      <td>3.000000</td>\n    </tr>\n  </tbody>\n</table>\n</div>"
     },
     "execution_count": 65,
     "metadata": {},
     "output_type": "execute_result"
    }
   ]
  },
  {
   "cell_type": "code",
   "source": [
    "mpgs[\"mpg\"] # You can access a partcular column using its column index"
   ],
   "metadata": {
    "colab": {
     "base_uri": "https://localhost:8080/"
    },
    "id": "oxvPwyP2YmHi",
    "outputId": "c2c785a0-8abf-4689-ae2e-c13b4b089072",
    "pycharm": {
     "name": "#%%\n"
    }
   },
   "execution_count": 67,
   "outputs": [
    {
     "data": {
      "text/plain": "0      18.0\n1      15.0\n2      18.0\n3      16.0\n4      17.0\n       ... \n401    27.0\n402    44.0\n403    32.0\n404    28.0\n405    31.0\nName: mpg, Length: 406, dtype: float64"
     },
     "execution_count": 67,
     "metadata": {},
     "output_type": "execute_result"
    }
   ]
  },
  {
   "cell_type": "code",
   "source": [
    "mpgs.loc[0] # You can use .loc[row index] to access a particulat row"
   ],
   "metadata": {
    "colab": {
     "base_uri": "https://localhost:8080/"
    },
    "id": "cQuKtlYTL421",
    "outputId": "e042cf41-4694-47d7-a2ed-7f638183abd6",
    "pycharm": {
     "name": "#%%\n"
    }
   },
   "execution_count": 68,
   "outputs": [
    {
     "data": {
      "text/plain": "mpg                                  18.0\ncylinders                             8.0\ndisplacement                        307.0\nhorsepower                          130.0\nweight                             3504.0\nacceleration                         12.0\nmodel year                           70.0\norigin                                1.0\ncar name        chevrolet chevelle malibu\nName: 0, dtype: object"
     },
     "execution_count": 68,
     "metadata": {},
     "output_type": "execute_result"
    }
   ]
  },
  {
   "cell_type": "code",
   "source": [
    "mpgs=mpgs[mpgs['mpg'].notnull()] #ignoring the rows with empty mpg value\n",
    "mpgs=mpgs[mpgs['car name'].notnull()] #ignoring the rows with empty car name value\n",
    "mpgs"
   ],
   "metadata": {
    "colab": {
     "base_uri": "https://localhost:8080/",
     "height": 424
    },
    "id": "rrX7-7zhWKG6",
    "outputId": "912c81ef-f16c-4196-8263-4a0d420e2087",
    "pycharm": {
     "name": "#%%\n"
    }
   },
   "execution_count": 69,
   "outputs": [
    {
     "data": {
      "text/plain": "      mpg  cylinders  displacement  horsepower  weight  acceleration  \\\n0    18.0        8.0         307.0       130.0  3504.0          12.0   \n1    15.0        8.0         350.0       165.0  3693.0          11.5   \n2    18.0        8.0         318.0       150.0  3436.0          11.0   \n3    16.0        8.0         304.0       150.0  3433.0          12.0   \n4    17.0        8.0         302.0       140.0  3449.0          10.5   \n..    ...        ...           ...         ...     ...           ...   \n401  27.0        4.0         140.0        86.0  2790.0          15.6   \n402  44.0        4.0          97.0        52.0  2130.0          24.6   \n403  32.0        4.0         135.0        84.0  2295.0          11.6   \n404  28.0        4.0         120.0        79.0  2625.0          18.6   \n405  31.0        4.0         119.0        82.0  2720.0          19.4   \n\n     model year  origin                   car name  \n0          70.0     1.0  chevrolet chevelle malibu  \n1          70.0     1.0          buick skylark 320  \n2          70.0     1.0         plymouth satellite  \n3          70.0     1.0              amc rebel sst  \n4          70.0     1.0                ford torino  \n..          ...     ...                        ...  \n401        82.0     1.0            ford mustang gl  \n402        82.0     2.0                  vw pickup  \n403        82.0     1.0              dodge rampage  \n404        82.0     1.0                ford ranger  \n405        82.0     1.0                 chevy s-10  \n\n[398 rows x 9 columns]",
      "text/html": "<div>\n<style scoped>\n    .dataframe tbody tr th:only-of-type {\n        vertical-align: middle;\n    }\n\n    .dataframe tbody tr th {\n        vertical-align: top;\n    }\n\n    .dataframe thead th {\n        text-align: right;\n    }\n</style>\n<table border=\"1\" class=\"dataframe\">\n  <thead>\n    <tr style=\"text-align: right;\">\n      <th></th>\n      <th>mpg</th>\n      <th>cylinders</th>\n      <th>displacement</th>\n      <th>horsepower</th>\n      <th>weight</th>\n      <th>acceleration</th>\n      <th>model year</th>\n      <th>origin</th>\n      <th>car name</th>\n    </tr>\n  </thead>\n  <tbody>\n    <tr>\n      <th>0</th>\n      <td>18.0</td>\n      <td>8.0</td>\n      <td>307.0</td>\n      <td>130.0</td>\n      <td>3504.0</td>\n      <td>12.0</td>\n      <td>70.0</td>\n      <td>1.0</td>\n      <td>chevrolet chevelle malibu</td>\n    </tr>\n    <tr>\n      <th>1</th>\n      <td>15.0</td>\n      <td>8.0</td>\n      <td>350.0</td>\n      <td>165.0</td>\n      <td>3693.0</td>\n      <td>11.5</td>\n      <td>70.0</td>\n      <td>1.0</td>\n      <td>buick skylark 320</td>\n    </tr>\n    <tr>\n      <th>2</th>\n      <td>18.0</td>\n      <td>8.0</td>\n      <td>318.0</td>\n      <td>150.0</td>\n      <td>3436.0</td>\n      <td>11.0</td>\n      <td>70.0</td>\n      <td>1.0</td>\n      <td>plymouth satellite</td>\n    </tr>\n    <tr>\n      <th>3</th>\n      <td>16.0</td>\n      <td>8.0</td>\n      <td>304.0</td>\n      <td>150.0</td>\n      <td>3433.0</td>\n      <td>12.0</td>\n      <td>70.0</td>\n      <td>1.0</td>\n      <td>amc rebel sst</td>\n    </tr>\n    <tr>\n      <th>4</th>\n      <td>17.0</td>\n      <td>8.0</td>\n      <td>302.0</td>\n      <td>140.0</td>\n      <td>3449.0</td>\n      <td>10.5</td>\n      <td>70.0</td>\n      <td>1.0</td>\n      <td>ford torino</td>\n    </tr>\n    <tr>\n      <th>...</th>\n      <td>...</td>\n      <td>...</td>\n      <td>...</td>\n      <td>...</td>\n      <td>...</td>\n      <td>...</td>\n      <td>...</td>\n      <td>...</td>\n      <td>...</td>\n    </tr>\n    <tr>\n      <th>401</th>\n      <td>27.0</td>\n      <td>4.0</td>\n      <td>140.0</td>\n      <td>86.0</td>\n      <td>2790.0</td>\n      <td>15.6</td>\n      <td>82.0</td>\n      <td>1.0</td>\n      <td>ford mustang gl</td>\n    </tr>\n    <tr>\n      <th>402</th>\n      <td>44.0</td>\n      <td>4.0</td>\n      <td>97.0</td>\n      <td>52.0</td>\n      <td>2130.0</td>\n      <td>24.6</td>\n      <td>82.0</td>\n      <td>2.0</td>\n      <td>vw pickup</td>\n    </tr>\n    <tr>\n      <th>403</th>\n      <td>32.0</td>\n      <td>4.0</td>\n      <td>135.0</td>\n      <td>84.0</td>\n      <td>2295.0</td>\n      <td>11.6</td>\n      <td>82.0</td>\n      <td>1.0</td>\n      <td>dodge rampage</td>\n    </tr>\n    <tr>\n      <th>404</th>\n      <td>28.0</td>\n      <td>4.0</td>\n      <td>120.0</td>\n      <td>79.0</td>\n      <td>2625.0</td>\n      <td>18.6</td>\n      <td>82.0</td>\n      <td>1.0</td>\n      <td>ford ranger</td>\n    </tr>\n    <tr>\n      <th>405</th>\n      <td>31.0</td>\n      <td>4.0</td>\n      <td>119.0</td>\n      <td>82.0</td>\n      <td>2720.0</td>\n      <td>19.4</td>\n      <td>82.0</td>\n      <td>1.0</td>\n      <td>chevy s-10</td>\n    </tr>\n  </tbody>\n</table>\n<p>398 rows × 9 columns</p>\n</div>"
     },
     "execution_count": 69,
     "metadata": {},
     "output_type": "execute_result"
    }
   ]
  },
  {
   "cell_type": "markdown",
   "source": [
    "### Numpy ufuncs work with DataFrames"
   ],
   "metadata": {
    "id": "Z0I7imzTWF2g",
    "pycharm": {
     "name": "#%% md\n"
    }
   }
  },
  {
   "cell_type": "code",
   "source": [
    "df = DataFrame(np.random.randn(4,3),columns=list(\"ABC\"),index=[\"One\",\"Two\",\"Three\",'Four'])\n",
    "df"
   ],
   "metadata": {
    "colab": {
     "base_uri": "https://localhost:8080/",
     "height": 175
    },
    "id": "ozYGh2mrV9RG",
    "outputId": "f724d0f9-bbf6-4b6d-d453-93285bffa098",
    "pycharm": {
     "name": "#%%\n"
    }
   },
   "execution_count": 70,
   "outputs": [
    {
     "data": {
      "text/plain": "              A         B         C\nOne    0.218867  0.407456 -0.494977\nTwo    0.866146 -0.424427 -0.076674\nThree  0.895850  1.075322  0.058864\nFour  -0.649664  0.111396 -0.890895",
      "text/html": "<div>\n<style scoped>\n    .dataframe tbody tr th:only-of-type {\n        vertical-align: middle;\n    }\n\n    .dataframe tbody tr th {\n        vertical-align: top;\n    }\n\n    .dataframe thead th {\n        text-align: right;\n    }\n</style>\n<table border=\"1\" class=\"dataframe\">\n  <thead>\n    <tr style=\"text-align: right;\">\n      <th></th>\n      <th>A</th>\n      <th>B</th>\n      <th>C</th>\n    </tr>\n  </thead>\n  <tbody>\n    <tr>\n      <th>One</th>\n      <td>0.218867</td>\n      <td>0.407456</td>\n      <td>-0.494977</td>\n    </tr>\n    <tr>\n      <th>Two</th>\n      <td>0.866146</td>\n      <td>-0.424427</td>\n      <td>-0.076674</td>\n    </tr>\n    <tr>\n      <th>Three</th>\n      <td>0.895850</td>\n      <td>1.075322</td>\n      <td>0.058864</td>\n    </tr>\n    <tr>\n      <th>Four</th>\n      <td>-0.649664</td>\n      <td>0.111396</td>\n      <td>-0.890895</td>\n    </tr>\n  </tbody>\n</table>\n</div>"
     },
     "execution_count": 70,
     "metadata": {},
     "output_type": "execute_result"
    }
   ]
  },
  {
   "cell_type": "code",
   "source": [
    "np.abs(df)  # won't change original"
   ],
   "metadata": {
    "colab": {
     "base_uri": "https://localhost:8080/",
     "height": 175
    },
    "id": "HOwpEq8bWo-5",
    "outputId": "e9579edc-51c8-4874-f3e0-fb359c6c3fd7",
    "pycharm": {
     "name": "#%%\n"
    }
   },
   "execution_count": 71,
   "outputs": [
    {
     "data": {
      "text/plain": "              A         B         C\nOne    0.218867  0.407456  0.494977\nTwo    0.866146  0.424427  0.076674\nThree  0.895850  1.075322  0.058864\nFour   0.649664  0.111396  0.890895",
      "text/html": "<div>\n<style scoped>\n    .dataframe tbody tr th:only-of-type {\n        vertical-align: middle;\n    }\n\n    .dataframe tbody tr th {\n        vertical-align: top;\n    }\n\n    .dataframe thead th {\n        text-align: right;\n    }\n</style>\n<table border=\"1\" class=\"dataframe\">\n  <thead>\n    <tr style=\"text-align: right;\">\n      <th></th>\n      <th>A</th>\n      <th>B</th>\n      <th>C</th>\n    </tr>\n  </thead>\n  <tbody>\n    <tr>\n      <th>One</th>\n      <td>0.218867</td>\n      <td>0.407456</td>\n      <td>0.494977</td>\n    </tr>\n    <tr>\n      <th>Two</th>\n      <td>0.866146</td>\n      <td>0.424427</td>\n      <td>0.076674</td>\n    </tr>\n    <tr>\n      <th>Three</th>\n      <td>0.895850</td>\n      <td>1.075322</td>\n      <td>0.058864</td>\n    </tr>\n    <tr>\n      <th>Four</th>\n      <td>0.649664</td>\n      <td>0.111396</td>\n      <td>0.890895</td>\n    </tr>\n  </tbody>\n</table>\n</div>"
     },
     "execution_count": 71,
     "metadata": {},
     "output_type": "execute_result"
    }
   ]
  },
  {
   "cell_type": "code",
   "source": [
    "df"
   ],
   "metadata": {
    "colab": {
     "base_uri": "https://localhost:8080/",
     "height": 175
    },
    "id": "UM5f5LJTW0Zg",
    "outputId": "ba4fdbe4-eaaa-43bc-e1f3-7f5145fafdda",
    "pycharm": {
     "name": "#%%\n"
    }
   },
   "execution_count": 72,
   "outputs": [
    {
     "data": {
      "text/plain": "              A         B         C\nOne    0.218867  0.407456 -0.494977\nTwo    0.866146 -0.424427 -0.076674\nThree  0.895850  1.075322  0.058864\nFour  -0.649664  0.111396 -0.890895",
      "text/html": "<div>\n<style scoped>\n    .dataframe tbody tr th:only-of-type {\n        vertical-align: middle;\n    }\n\n    .dataframe tbody tr th {\n        vertical-align: top;\n    }\n\n    .dataframe thead th {\n        text-align: right;\n    }\n</style>\n<table border=\"1\" class=\"dataframe\">\n  <thead>\n    <tr style=\"text-align: right;\">\n      <th></th>\n      <th>A</th>\n      <th>B</th>\n      <th>C</th>\n    </tr>\n  </thead>\n  <tbody>\n    <tr>\n      <th>One</th>\n      <td>0.218867</td>\n      <td>0.407456</td>\n      <td>-0.494977</td>\n    </tr>\n    <tr>\n      <th>Two</th>\n      <td>0.866146</td>\n      <td>-0.424427</td>\n      <td>-0.076674</td>\n    </tr>\n    <tr>\n      <th>Three</th>\n      <td>0.895850</td>\n      <td>1.075322</td>\n      <td>0.058864</td>\n    </tr>\n    <tr>\n      <th>Four</th>\n      <td>-0.649664</td>\n      <td>0.111396</td>\n      <td>-0.890895</td>\n    </tr>\n  </tbody>\n</table>\n</div>"
     },
     "execution_count": 72,
     "metadata": {},
     "output_type": "execute_result"
    }
   ]
  },
  {
   "cell_type": "code",
   "source": [
    "# alternatively, use dataframe method abs(), this won't change original df either\n",
    "df.abs()"
   ],
   "metadata": {
    "colab": {
     "base_uri": "https://localhost:8080/",
     "height": 175
    },
    "id": "4cUN-ZlGWwjD",
    "outputId": "32ea0d85-8313-430e-faa0-9b14149ab4b2",
    "pycharm": {
     "name": "#%%\n"
    }
   },
   "execution_count": 73,
   "outputs": [
    {
     "data": {
      "text/plain": "              A         B         C\nOne    0.218867  0.407456  0.494977\nTwo    0.866146  0.424427  0.076674\nThree  0.895850  1.075322  0.058864\nFour   0.649664  0.111396  0.890895",
      "text/html": "<div>\n<style scoped>\n    .dataframe tbody tr th:only-of-type {\n        vertical-align: middle;\n    }\n\n    .dataframe tbody tr th {\n        vertical-align: top;\n    }\n\n    .dataframe thead th {\n        text-align: right;\n    }\n</style>\n<table border=\"1\" class=\"dataframe\">\n  <thead>\n    <tr style=\"text-align: right;\">\n      <th></th>\n      <th>A</th>\n      <th>B</th>\n      <th>C</th>\n    </tr>\n  </thead>\n  <tbody>\n    <tr>\n      <th>One</th>\n      <td>0.218867</td>\n      <td>0.407456</td>\n      <td>0.494977</td>\n    </tr>\n    <tr>\n      <th>Two</th>\n      <td>0.866146</td>\n      <td>0.424427</td>\n      <td>0.076674</td>\n    </tr>\n    <tr>\n      <th>Three</th>\n      <td>0.895850</td>\n      <td>1.075322</td>\n      <td>0.058864</td>\n    </tr>\n    <tr>\n      <th>Four</th>\n      <td>0.649664</td>\n      <td>0.111396</td>\n      <td>0.890895</td>\n    </tr>\n  </tbody>\n</table>\n</div>"
     },
     "execution_count": 73,
     "metadata": {},
     "output_type": "execute_result"
    }
   ]
  },
  {
   "cell_type": "code",
   "source": [
    "df.mean()  # default is axis=0, so column wise mean"
   ],
   "metadata": {
    "colab": {
     "base_uri": "https://localhost:8080/"
    },
    "id": "ZL74-d9dW2Dg",
    "outputId": "0c11bc14-5968-4fd3-f466-6d5282d77ab6",
    "pycharm": {
     "name": "#%%\n"
    }
   },
   "execution_count": 74,
   "outputs": [
    {
     "data": {
      "text/plain": "A    0.332800\nB    0.292437\nC   -0.350920\ndtype: float64"
     },
     "execution_count": 74,
     "metadata": {},
     "output_type": "execute_result"
    }
   ]
  },
  {
   "cell_type": "code",
   "source": [
    "df.mean(axis=1)  # row-wise"
   ],
   "metadata": {
    "colab": {
     "base_uri": "https://localhost:8080/"
    },
    "id": "7ZScVYZjXBC4",
    "outputId": "d2bf6b8f-3f43-4992-dd25-19b33599ce62",
    "pycharm": {
     "name": "#%%\n"
    }
   },
   "execution_count": 75,
   "outputs": [
    {
     "data": {
      "text/plain": "One      0.043782\nTwo      0.121682\nThree    0.676679\nFour    -0.476388\ndtype: float64"
     },
     "execution_count": 75,
     "metadata": {},
     "output_type": "execute_result"
    }
   ]
  },
  {
   "cell_type": "code",
   "source": [
    "df.sum()   # column sums"
   ],
   "metadata": {
    "colab": {
     "base_uri": "https://localhost:8080/"
    },
    "id": "d42pZxKmXM2H",
    "outputId": "c568f2d7-3702-4696-ca37-be3178d0fd22",
    "pycharm": {
     "name": "#%%\n"
    }
   },
   "execution_count": 76,
   "outputs": [
    {
     "data": {
      "text/plain": "A    1.331199\nB    1.169747\nC   -1.403682\ndtype: float64"
     },
     "execution_count": 76,
     "metadata": {},
     "output_type": "execute_result"
    }
   ]
  },
  {
   "cell_type": "markdown",
   "source": [
    "### Function Application and Mapping"
   ],
   "metadata": {
    "id": "irApTObZZQJG",
    "pycharm": {
     "name": "#%% md\n"
    }
   }
  },
  {
   "cell_type": "markdown",
   "source": [
    "You can apply a function to a column of data or an entire dataframe."
   ],
   "metadata": {
    "id": "tQItalBHGQR3",
    "pycharm": {
     "name": "#%% md\n"
    }
   }
  },
  {
   "cell_type": "code",
   "source": [
    "df = DataFrame(np.random.randn(4,3),columns=list(\"ABC\"),index=[\"One\",\"Two\",\"Three\",'Four'])\n",
    "df"
   ],
   "metadata": {
    "colab": {
     "base_uri": "https://localhost:8080/",
     "height": 175
    },
    "id": "EHOE-rR7ZVuq",
    "outputId": "d5521b94-b4e4-4188-8774-5cbef29c71af",
    "pycharm": {
     "name": "#%%\n"
    }
   },
   "execution_count": 77,
   "outputs": [
    {
     "data": {
      "text/plain": "              A         B         C\nOne    1.151594 -0.233336 -1.033123\nTwo   -0.259000 -0.137860 -1.731308\nThree -0.173510  0.428788 -0.719219\nFour   0.195351  0.258308 -0.172025",
      "text/html": "<div>\n<style scoped>\n    .dataframe tbody tr th:only-of-type {\n        vertical-align: middle;\n    }\n\n    .dataframe tbody tr th {\n        vertical-align: top;\n    }\n\n    .dataframe thead th {\n        text-align: right;\n    }\n</style>\n<table border=\"1\" class=\"dataframe\">\n  <thead>\n    <tr style=\"text-align: right;\">\n      <th></th>\n      <th>A</th>\n      <th>B</th>\n      <th>C</th>\n    </tr>\n  </thead>\n  <tbody>\n    <tr>\n      <th>One</th>\n      <td>1.151594</td>\n      <td>-0.233336</td>\n      <td>-1.033123</td>\n    </tr>\n    <tr>\n      <th>Two</th>\n      <td>-0.259000</td>\n      <td>-0.137860</td>\n      <td>-1.731308</td>\n    </tr>\n    <tr>\n      <th>Three</th>\n      <td>-0.173510</td>\n      <td>0.428788</td>\n      <td>-0.719219</td>\n    </tr>\n    <tr>\n      <th>Four</th>\n      <td>0.195351</td>\n      <td>0.258308</td>\n      <td>-0.172025</td>\n    </tr>\n  </tbody>\n</table>\n</div>"
     },
     "execution_count": 77,
     "metadata": {},
     "output_type": "execute_result"
    }
   ]
  },
  {
   "cell_type": "code",
   "source": [
    "def roundfn(x):\n",
    "  return round(x,2) #round the number to second digit."
   ],
   "metadata": {
    "id": "NoOr_AGSLBag",
    "pycharm": {
     "name": "#%%\n"
    }
   },
   "execution_count": 78,
   "outputs": []
  },
  {
   "cell_type": "code",
   "source": [
    "df.apply(roundfn) # Here you don't need to give the parameter because apply will automatically use the column as input."
   ],
   "metadata": {
    "colab": {
     "base_uri": "https://localhost:8080/",
     "height": 175
    },
    "id": "QFfmlrC1LJ4O",
    "outputId": "e08adf9a-2f8a-4075-f021-ec8e90b3817c",
    "pycharm": {
     "name": "#%%\n"
    }
   },
   "execution_count": 79,
   "outputs": [
    {
     "data": {
      "text/plain": "          A     B     C\nOne    1.15 -0.23 -1.03\nTwo   -0.26 -0.14 -1.73\nThree -0.17  0.43 -0.72\nFour   0.20  0.26 -0.17",
      "text/html": "<div>\n<style scoped>\n    .dataframe tbody tr th:only-of-type {\n        vertical-align: middle;\n    }\n\n    .dataframe tbody tr th {\n        vertical-align: top;\n    }\n\n    .dataframe thead th {\n        text-align: right;\n    }\n</style>\n<table border=\"1\" class=\"dataframe\">\n  <thead>\n    <tr style=\"text-align: right;\">\n      <th></th>\n      <th>A</th>\n      <th>B</th>\n      <th>C</th>\n    </tr>\n  </thead>\n  <tbody>\n    <tr>\n      <th>One</th>\n      <td>1.15</td>\n      <td>-0.23</td>\n      <td>-1.03</td>\n    </tr>\n    <tr>\n      <th>Two</th>\n      <td>-0.26</td>\n      <td>-0.14</td>\n      <td>-1.73</td>\n    </tr>\n    <tr>\n      <th>Three</th>\n      <td>-0.17</td>\n      <td>0.43</td>\n      <td>-0.72</td>\n    </tr>\n    <tr>\n      <th>Four</th>\n      <td>0.20</td>\n      <td>0.26</td>\n      <td>-0.17</td>\n    </tr>\n  </tbody>\n</table>\n</div>"
     },
     "execution_count": 79,
     "metadata": {},
     "output_type": "execute_result"
    }
   ]
  },
  {
   "cell_type": "code",
   "source": [
    "df[\"A\"].apply(roundfn) # You can apply the function to a single column"
   ],
   "metadata": {
    "colab": {
     "base_uri": "https://localhost:8080/"
    },
    "id": "juDm72OqLkxU",
    "outputId": "f96cdc11-7136-4ab4-bf45-3b75ffb0c37a",
    "pycharm": {
     "name": "#%%\n"
    }
   },
   "execution_count": 80,
   "outputs": [
    {
     "data": {
      "text/plain": "One      1.15\nTwo     -0.26\nThree   -0.17\nFour     0.20\nName: A, dtype: float64"
     },
     "execution_count": 80,
     "metadata": {},
     "output_type": "execute_result"
    }
   ]
  },
  {
   "cell_type": "code",
   "source": [
    "df.loc[\"One\"].apply(roundfn)# Or to a single row. Here, each row also has an index, so you need to use its index to refer to a specific row."
   ],
   "metadata": {
    "colab": {
     "base_uri": "https://localhost:8080/"
    },
    "id": "Hjz3nUbhMZZs",
    "outputId": "987623cb-81b0-4b6b-ab26-f1dae1797c22",
    "pycharm": {
     "name": "#%%\n"
    }
   },
   "execution_count": 81,
   "outputs": [
    {
     "data": {
      "text/plain": "A    1.15\nB   -0.23\nC   -1.03\nName: One, dtype: float64"
     },
     "execution_count": 81,
     "metadata": {},
     "output_type": "execute_result"
    }
   ]
  },
  {
   "cell_type": "code",
   "source": [
    "df.loc[0].apply(roundfn) # This won't work because the index of the first row is no longer 0. (By default, the row index is similar to the index of a list where you always starts with index 0) "
   ],
   "metadata": {
    "colab": {
     "base_uri": "https://localhost:8080/",
     "height": 502
    },
    "id": "o1oBQDTYOOis",
    "outputId": "b3a1c3b8-cf74-4704-c09d-4f6267c1d989",
    "pycharm": {
     "name": "#%%\n"
    }
   },
   "execution_count": 82,
   "outputs": [
    {
     "ename": "KeyError",
     "evalue": "0",
     "output_type": "error",
     "traceback": [
      "\u001B[0;31m---------------------------------------------------------------------------\u001B[0m",
      "\u001B[0;31mKeyError\u001B[0m                                  Traceback (most recent call last)",
      "\u001B[0;32m~/opt/anaconda3/lib/python3.9/site-packages/pandas/core/indexes/base.py\u001B[0m in \u001B[0;36mget_loc\u001B[0;34m(self, key, method, tolerance)\u001B[0m\n\u001B[1;32m   3360\u001B[0m             \u001B[0;32mtry\u001B[0m\u001B[0;34m:\u001B[0m\u001B[0;34m\u001B[0m\u001B[0;34m\u001B[0m\u001B[0m\n\u001B[0;32m-> 3361\u001B[0;31m                 \u001B[0;32mreturn\u001B[0m \u001B[0mself\u001B[0m\u001B[0;34m.\u001B[0m\u001B[0m_engine\u001B[0m\u001B[0;34m.\u001B[0m\u001B[0mget_loc\u001B[0m\u001B[0;34m(\u001B[0m\u001B[0mcasted_key\u001B[0m\u001B[0;34m)\u001B[0m\u001B[0;34m\u001B[0m\u001B[0;34m\u001B[0m\u001B[0m\n\u001B[0m\u001B[1;32m   3362\u001B[0m             \u001B[0;32mexcept\u001B[0m \u001B[0mKeyError\u001B[0m \u001B[0;32mas\u001B[0m \u001B[0merr\u001B[0m\u001B[0;34m:\u001B[0m\u001B[0;34m\u001B[0m\u001B[0;34m\u001B[0m\u001B[0m\n",
      "\u001B[0;32m~/opt/anaconda3/lib/python3.9/site-packages/pandas/_libs/index.pyx\u001B[0m in \u001B[0;36mpandas._libs.index.IndexEngine.get_loc\u001B[0;34m()\u001B[0m\n",
      "\u001B[0;32m~/opt/anaconda3/lib/python3.9/site-packages/pandas/_libs/index.pyx\u001B[0m in \u001B[0;36mpandas._libs.index.IndexEngine.get_loc\u001B[0;34m()\u001B[0m\n",
      "\u001B[0;32mpandas/_libs/hashtable_class_helper.pxi\u001B[0m in \u001B[0;36mpandas._libs.hashtable.PyObjectHashTable.get_item\u001B[0;34m()\u001B[0m\n",
      "\u001B[0;32mpandas/_libs/hashtable_class_helper.pxi\u001B[0m in \u001B[0;36mpandas._libs.hashtable.PyObjectHashTable.get_item\u001B[0;34m()\u001B[0m\n",
      "\u001B[0;31mKeyError\u001B[0m: 0",
      "\nThe above exception was the direct cause of the following exception:\n",
      "\u001B[0;31mKeyError\u001B[0m                                  Traceback (most recent call last)",
      "\u001B[0;32m/var/folders/x3/d9wqpd_j1mz8xzmnqzq0z_vr0000gn/T/ipykernel_7256/3717116952.py\u001B[0m in \u001B[0;36m<module>\u001B[0;34m\u001B[0m\n\u001B[0;32m----> 1\u001B[0;31m \u001B[0mdf\u001B[0m\u001B[0;34m.\u001B[0m\u001B[0mloc\u001B[0m\u001B[0;34m[\u001B[0m\u001B[0;36m0\u001B[0m\u001B[0;34m]\u001B[0m\u001B[0;34m.\u001B[0m\u001B[0mapply\u001B[0m\u001B[0;34m(\u001B[0m\u001B[0mroundfn\u001B[0m\u001B[0;34m)\u001B[0m \u001B[0;31m# This won't work because the index of the first row is no longer 0. (By default, the row index is similar to the index of a list where you always starts with index 0)\u001B[0m\u001B[0;34m\u001B[0m\u001B[0;34m\u001B[0m\u001B[0m\n\u001B[0m",
      "\u001B[0;32m~/opt/anaconda3/lib/python3.9/site-packages/pandas/core/indexing.py\u001B[0m in \u001B[0;36m__getitem__\u001B[0;34m(self, key)\u001B[0m\n\u001B[1;32m    929\u001B[0m \u001B[0;34m\u001B[0m\u001B[0m\n\u001B[1;32m    930\u001B[0m             \u001B[0mmaybe_callable\u001B[0m \u001B[0;34m=\u001B[0m \u001B[0mcom\u001B[0m\u001B[0;34m.\u001B[0m\u001B[0mapply_if_callable\u001B[0m\u001B[0;34m(\u001B[0m\u001B[0mkey\u001B[0m\u001B[0;34m,\u001B[0m \u001B[0mself\u001B[0m\u001B[0;34m.\u001B[0m\u001B[0mobj\u001B[0m\u001B[0;34m)\u001B[0m\u001B[0;34m\u001B[0m\u001B[0;34m\u001B[0m\u001B[0m\n\u001B[0;32m--> 931\u001B[0;31m             \u001B[0;32mreturn\u001B[0m \u001B[0mself\u001B[0m\u001B[0;34m.\u001B[0m\u001B[0m_getitem_axis\u001B[0m\u001B[0;34m(\u001B[0m\u001B[0mmaybe_callable\u001B[0m\u001B[0;34m,\u001B[0m \u001B[0maxis\u001B[0m\u001B[0;34m=\u001B[0m\u001B[0maxis\u001B[0m\u001B[0;34m)\u001B[0m\u001B[0;34m\u001B[0m\u001B[0;34m\u001B[0m\u001B[0m\n\u001B[0m\u001B[1;32m    932\u001B[0m \u001B[0;34m\u001B[0m\u001B[0m\n\u001B[1;32m    933\u001B[0m     \u001B[0;32mdef\u001B[0m \u001B[0m_is_scalar_access\u001B[0m\u001B[0;34m(\u001B[0m\u001B[0mself\u001B[0m\u001B[0;34m,\u001B[0m \u001B[0mkey\u001B[0m\u001B[0;34m:\u001B[0m \u001B[0mtuple\u001B[0m\u001B[0;34m)\u001B[0m\u001B[0;34m:\u001B[0m\u001B[0;34m\u001B[0m\u001B[0;34m\u001B[0m\u001B[0m\n",
      "\u001B[0;32m~/opt/anaconda3/lib/python3.9/site-packages/pandas/core/indexing.py\u001B[0m in \u001B[0;36m_getitem_axis\u001B[0;34m(self, key, axis)\u001B[0m\n\u001B[1;32m   1162\u001B[0m         \u001B[0;31m# fall thru to straight lookup\u001B[0m\u001B[0;34m\u001B[0m\u001B[0;34m\u001B[0m\u001B[0m\n\u001B[1;32m   1163\u001B[0m         \u001B[0mself\u001B[0m\u001B[0;34m.\u001B[0m\u001B[0m_validate_key\u001B[0m\u001B[0;34m(\u001B[0m\u001B[0mkey\u001B[0m\u001B[0;34m,\u001B[0m \u001B[0maxis\u001B[0m\u001B[0;34m)\u001B[0m\u001B[0;34m\u001B[0m\u001B[0;34m\u001B[0m\u001B[0m\n\u001B[0;32m-> 1164\u001B[0;31m         \u001B[0;32mreturn\u001B[0m \u001B[0mself\u001B[0m\u001B[0;34m.\u001B[0m\u001B[0m_get_label\u001B[0m\u001B[0;34m(\u001B[0m\u001B[0mkey\u001B[0m\u001B[0;34m,\u001B[0m \u001B[0maxis\u001B[0m\u001B[0;34m=\u001B[0m\u001B[0maxis\u001B[0m\u001B[0;34m)\u001B[0m\u001B[0;34m\u001B[0m\u001B[0;34m\u001B[0m\u001B[0m\n\u001B[0m\u001B[1;32m   1165\u001B[0m \u001B[0;34m\u001B[0m\u001B[0m\n\u001B[1;32m   1166\u001B[0m     \u001B[0;32mdef\u001B[0m \u001B[0m_get_slice_axis\u001B[0m\u001B[0;34m(\u001B[0m\u001B[0mself\u001B[0m\u001B[0;34m,\u001B[0m \u001B[0mslice_obj\u001B[0m\u001B[0;34m:\u001B[0m \u001B[0mslice\u001B[0m\u001B[0;34m,\u001B[0m \u001B[0maxis\u001B[0m\u001B[0;34m:\u001B[0m \u001B[0mint\u001B[0m\u001B[0;34m)\u001B[0m\u001B[0;34m:\u001B[0m\u001B[0;34m\u001B[0m\u001B[0;34m\u001B[0m\u001B[0m\n",
      "\u001B[0;32m~/opt/anaconda3/lib/python3.9/site-packages/pandas/core/indexing.py\u001B[0m in \u001B[0;36m_get_label\u001B[0;34m(self, label, axis)\u001B[0m\n\u001B[1;32m   1111\u001B[0m     \u001B[0;32mdef\u001B[0m \u001B[0m_get_label\u001B[0m\u001B[0;34m(\u001B[0m\u001B[0mself\u001B[0m\u001B[0;34m,\u001B[0m \u001B[0mlabel\u001B[0m\u001B[0;34m,\u001B[0m \u001B[0maxis\u001B[0m\u001B[0;34m:\u001B[0m \u001B[0mint\u001B[0m\u001B[0;34m)\u001B[0m\u001B[0;34m:\u001B[0m\u001B[0;34m\u001B[0m\u001B[0;34m\u001B[0m\u001B[0m\n\u001B[1;32m   1112\u001B[0m         \u001B[0;31m# GH#5667 this will fail if the label is not present in the axis.\u001B[0m\u001B[0;34m\u001B[0m\u001B[0;34m\u001B[0m\u001B[0m\n\u001B[0;32m-> 1113\u001B[0;31m         \u001B[0;32mreturn\u001B[0m \u001B[0mself\u001B[0m\u001B[0;34m.\u001B[0m\u001B[0mobj\u001B[0m\u001B[0;34m.\u001B[0m\u001B[0mxs\u001B[0m\u001B[0;34m(\u001B[0m\u001B[0mlabel\u001B[0m\u001B[0;34m,\u001B[0m \u001B[0maxis\u001B[0m\u001B[0;34m=\u001B[0m\u001B[0maxis\u001B[0m\u001B[0;34m)\u001B[0m\u001B[0;34m\u001B[0m\u001B[0;34m\u001B[0m\u001B[0m\n\u001B[0m\u001B[1;32m   1114\u001B[0m \u001B[0;34m\u001B[0m\u001B[0m\n\u001B[1;32m   1115\u001B[0m     \u001B[0;32mdef\u001B[0m \u001B[0m_handle_lowerdim_multi_index_axis0\u001B[0m\u001B[0;34m(\u001B[0m\u001B[0mself\u001B[0m\u001B[0;34m,\u001B[0m \u001B[0mtup\u001B[0m\u001B[0;34m:\u001B[0m \u001B[0mtuple\u001B[0m\u001B[0;34m)\u001B[0m\u001B[0;34m:\u001B[0m\u001B[0;34m\u001B[0m\u001B[0;34m\u001B[0m\u001B[0m\n",
      "\u001B[0;32m~/opt/anaconda3/lib/python3.9/site-packages/pandas/core/generic.py\u001B[0m in \u001B[0;36mxs\u001B[0;34m(self, key, axis, level, drop_level)\u001B[0m\n\u001B[1;32m   3774\u001B[0m                 \u001B[0;32mraise\u001B[0m \u001B[0mTypeError\u001B[0m\u001B[0;34m(\u001B[0m\u001B[0;34mf\"Expected label or tuple of labels, got {key}\"\u001B[0m\u001B[0;34m)\u001B[0m \u001B[0;32mfrom\u001B[0m \u001B[0me\u001B[0m\u001B[0;34m\u001B[0m\u001B[0;34m\u001B[0m\u001B[0m\n\u001B[1;32m   3775\u001B[0m         \u001B[0;32melse\u001B[0m\u001B[0;34m:\u001B[0m\u001B[0;34m\u001B[0m\u001B[0;34m\u001B[0m\u001B[0m\n\u001B[0;32m-> 3776\u001B[0;31m             \u001B[0mloc\u001B[0m \u001B[0;34m=\u001B[0m \u001B[0mindex\u001B[0m\u001B[0;34m.\u001B[0m\u001B[0mget_loc\u001B[0m\u001B[0;34m(\u001B[0m\u001B[0mkey\u001B[0m\u001B[0;34m)\u001B[0m\u001B[0;34m\u001B[0m\u001B[0;34m\u001B[0m\u001B[0m\n\u001B[0m\u001B[1;32m   3777\u001B[0m \u001B[0;34m\u001B[0m\u001B[0m\n\u001B[1;32m   3778\u001B[0m             \u001B[0;32mif\u001B[0m \u001B[0misinstance\u001B[0m\u001B[0;34m(\u001B[0m\u001B[0mloc\u001B[0m\u001B[0;34m,\u001B[0m \u001B[0mnp\u001B[0m\u001B[0;34m.\u001B[0m\u001B[0mndarray\u001B[0m\u001B[0;34m)\u001B[0m\u001B[0;34m:\u001B[0m\u001B[0;34m\u001B[0m\u001B[0;34m\u001B[0m\u001B[0m\n",
      "\u001B[0;32m~/opt/anaconda3/lib/python3.9/site-packages/pandas/core/indexes/base.py\u001B[0m in \u001B[0;36mget_loc\u001B[0;34m(self, key, method, tolerance)\u001B[0m\n\u001B[1;32m   3361\u001B[0m                 \u001B[0;32mreturn\u001B[0m \u001B[0mself\u001B[0m\u001B[0;34m.\u001B[0m\u001B[0m_engine\u001B[0m\u001B[0;34m.\u001B[0m\u001B[0mget_loc\u001B[0m\u001B[0;34m(\u001B[0m\u001B[0mcasted_key\u001B[0m\u001B[0;34m)\u001B[0m\u001B[0;34m\u001B[0m\u001B[0;34m\u001B[0m\u001B[0m\n\u001B[1;32m   3362\u001B[0m             \u001B[0;32mexcept\u001B[0m \u001B[0mKeyError\u001B[0m \u001B[0;32mas\u001B[0m \u001B[0merr\u001B[0m\u001B[0;34m:\u001B[0m\u001B[0;34m\u001B[0m\u001B[0;34m\u001B[0m\u001B[0m\n\u001B[0;32m-> 3363\u001B[0;31m                 \u001B[0;32mraise\u001B[0m \u001B[0mKeyError\u001B[0m\u001B[0;34m(\u001B[0m\u001B[0mkey\u001B[0m\u001B[0;34m)\u001B[0m \u001B[0;32mfrom\u001B[0m \u001B[0merr\u001B[0m\u001B[0;34m\u001B[0m\u001B[0;34m\u001B[0m\u001B[0m\n\u001B[0m\u001B[1;32m   3364\u001B[0m \u001B[0;34m\u001B[0m\u001B[0m\n\u001B[1;32m   3365\u001B[0m         \u001B[0;32mif\u001B[0m \u001B[0mis_scalar\u001B[0m\u001B[0;34m(\u001B[0m\u001B[0mkey\u001B[0m\u001B[0;34m)\u001B[0m \u001B[0;32mand\u001B[0m \u001B[0misna\u001B[0m\u001B[0;34m(\u001B[0m\u001B[0mkey\u001B[0m\u001B[0;34m)\u001B[0m \u001B[0;32mand\u001B[0m \u001B[0;32mnot\u001B[0m \u001B[0mself\u001B[0m\u001B[0;34m.\u001B[0m\u001B[0mhasnans\u001B[0m\u001B[0;34m:\u001B[0m\u001B[0;34m\u001B[0m\u001B[0;34m\u001B[0m\u001B[0m\n",
      "\u001B[0;31mKeyError\u001B[0m: 0"
     ]
    }
   ]
  },
  {
   "cell_type": "markdown",
   "source": [
    "### Iterating over rows and columns of DataFrame\n",
    "Like a list, we can iterate over a DataFrame as well."
   ],
   "metadata": {
    "id": "VUSnqomyS4Ak",
    "pycharm": {
     "name": "#%% md\n"
    }
   }
  },
  {
   "cell_type": "markdown",
   "source": [
    "#### Iterating over rows using iterrows"
   ],
   "metadata": {
    "id": "QWY6XYkPTFli",
    "pycharm": {
     "name": "#%% md\n"
    }
   }
  },
  {
   "cell_type": "code",
   "source": [
    "dfround = df.round(2)\n",
    "dfround"
   ],
   "metadata": {
    "colab": {
     "base_uri": "https://localhost:8080/",
     "height": 175
    },
    "id": "oXjdCYUhTKB_",
    "outputId": "8223ed1b-a6e1-4f97-e3d7-791b405c5595",
    "pycharm": {
     "name": "#%%\n"
    }
   },
   "execution_count": 83,
   "outputs": [
    {
     "data": {
      "text/plain": "          A     B     C\nOne    1.15 -0.23 -1.03\nTwo   -0.26 -0.14 -1.73\nThree -0.17  0.43 -0.72\nFour   0.20  0.26 -0.17",
      "text/html": "<div>\n<style scoped>\n    .dataframe tbody tr th:only-of-type {\n        vertical-align: middle;\n    }\n\n    .dataframe tbody tr th {\n        vertical-align: top;\n    }\n\n    .dataframe thead th {\n        text-align: right;\n    }\n</style>\n<table border=\"1\" class=\"dataframe\">\n  <thead>\n    <tr style=\"text-align: right;\">\n      <th></th>\n      <th>A</th>\n      <th>B</th>\n      <th>C</th>\n    </tr>\n  </thead>\n  <tbody>\n    <tr>\n      <th>One</th>\n      <td>1.15</td>\n      <td>-0.23</td>\n      <td>-1.03</td>\n    </tr>\n    <tr>\n      <th>Two</th>\n      <td>-0.26</td>\n      <td>-0.14</td>\n      <td>-1.73</td>\n    </tr>\n    <tr>\n      <th>Three</th>\n      <td>-0.17</td>\n      <td>0.43</td>\n      <td>-0.72</td>\n    </tr>\n    <tr>\n      <th>Four</th>\n      <td>0.20</td>\n      <td>0.26</td>\n      <td>-0.17</td>\n    </tr>\n  </tbody>\n</table>\n</div>"
     },
     "execution_count": 83,
     "metadata": {},
     "output_type": "execute_result"
    }
   ]
  },
  {
   "cell_type": "code",
   "source": [
    "for row in dfround.iterrows():\n",
    "    print(row,'\\n')"
   ],
   "metadata": {
    "colab": {
     "base_uri": "https://localhost:8080/"
    },
    "id": "ML4rkHTiUnNw",
    "outputId": "9cb031ba-8023-47be-ce8a-ec8098114b16",
    "pycharm": {
     "name": "#%%\n"
    }
   },
   "execution_count": 84,
   "outputs": [
    {
     "name": "stdout",
     "output_type": "stream",
     "text": [
      "('One', A    1.15\n",
      "B   -0.23\n",
      "C   -1.03\n",
      "Name: One, dtype: float64) \n",
      "\n",
      "('Two', A   -0.26\n",
      "B   -0.14\n",
      "C   -1.73\n",
      "Name: Two, dtype: float64) \n",
      "\n",
      "('Three', A   -0.17\n",
      "B    0.43\n",
      "C   -0.72\n",
      "Name: Three, dtype: float64) \n",
      "\n",
      "('Four', A    0.20\n",
      "B    0.26\n",
      "C   -0.17\n",
      "Name: Four, dtype: float64) \n",
      "\n"
     ]
    }
   ]
  },
  {
   "cell_type": "markdown",
   "source": [
    "Each row is returned as a tuple: first item is index label of row, second item is Series for row.\n",
    "For each row Series, its index are the column names, and values are values in that row"
   ],
   "metadata": {
    "id": "LTBc7Ut9UyWJ",
    "pycharm": {
     "name": "#%% md\n"
    }
   }
  },
  {
   "cell_type": "code",
   "source": [
    "for row in dfround.iterrows():\n",
    "    ser = row[1]\n",
    "    print(ser.index)\n",
    "    print(ser.values)\n",
    "    print('\\n')"
   ],
   "metadata": {
    "colab": {
     "base_uri": "https://localhost:8080/"
    },
    "id": "jYLn9FgjUzTl",
    "outputId": "e5b06d57-79fe-4544-c294-52529af1cd6c",
    "pycharm": {
     "name": "#%%\n"
    }
   },
   "execution_count": 85,
   "outputs": [
    {
     "name": "stdout",
     "output_type": "stream",
     "text": [
      "Index(['A', 'B', 'C'], dtype='object')\n",
      "[ 1.15 -0.23 -1.03]\n",
      "\n",
      "\n",
      "Index(['A', 'B', 'C'], dtype='object')\n",
      "[-0.26 -0.14 -1.73]\n",
      "\n",
      "\n",
      "Index(['A', 'B', 'C'], dtype='object')\n",
      "[-0.17  0.43 -0.72]\n",
      "\n",
      "\n",
      "Index(['A', 'B', 'C'], dtype='object')\n",
      "[ 0.2   0.26 -0.17]\n",
      "\n",
      "\n"
     ]
    }
   ]
  },
  {
   "cell_type": "code",
   "source": [
    "# retrieving column values individually\n",
    "for row in dfround.iterrows():\n",
    "    ser = row[1]\n",
    "    for i,col in enumerate(ser.index):\n",
    "        print(f'{col}: {ser.values[i]}')\n",
    "    print('\\n')"
   ],
   "metadata": {
    "colab": {
     "base_uri": "https://localhost:8080/"
    },
    "id": "tF_UWu1OU5TL",
    "outputId": "1c31b332-f98c-41e0-860f-a7bc1f34ac08",
    "pycharm": {
     "name": "#%%\n"
    }
   },
   "execution_count": 86,
   "outputs": [
    {
     "name": "stdout",
     "output_type": "stream",
     "text": [
      "A: 1.15\n",
      "B: -0.23\n",
      "C: -1.03\n",
      "\n",
      "\n",
      "A: -0.26\n",
      "B: -0.14\n",
      "C: -1.73\n",
      "\n",
      "\n",
      "A: -0.17\n",
      "B: 0.43\n",
      "C: -0.72\n",
      "\n",
      "\n",
      "A: 0.2\n",
      "B: 0.26\n",
      "C: -0.17\n",
      "\n",
      "\n"
     ]
    }
   ]
  },
  {
   "cell_type": "markdown",
   "source": [
    "#### Iterating over columns using iteritems"
   ],
   "metadata": {
    "id": "Dt-fmWbKVB4S",
    "pycharm": {
     "name": "#%% md\n"
    }
   }
  },
  {
   "cell_type": "code",
   "source": [
    "dfround"
   ],
   "metadata": {
    "colab": {
     "base_uri": "https://localhost:8080/",
     "height": 175
    },
    "id": "r4-XXrfsVD8b",
    "outputId": "5bd2993f-99c4-4183-828d-4638a03be998",
    "pycharm": {
     "name": "#%%\n"
    }
   },
   "execution_count": 87,
   "outputs": [
    {
     "data": {
      "text/plain": "          A     B     C\nOne    1.15 -0.23 -1.03\nTwo   -0.26 -0.14 -1.73\nThree -0.17  0.43 -0.72\nFour   0.20  0.26 -0.17",
      "text/html": "<div>\n<style scoped>\n    .dataframe tbody tr th:only-of-type {\n        vertical-align: middle;\n    }\n\n    .dataframe tbody tr th {\n        vertical-align: top;\n    }\n\n    .dataframe thead th {\n        text-align: right;\n    }\n</style>\n<table border=\"1\" class=\"dataframe\">\n  <thead>\n    <tr style=\"text-align: right;\">\n      <th></th>\n      <th>A</th>\n      <th>B</th>\n      <th>C</th>\n    </tr>\n  </thead>\n  <tbody>\n    <tr>\n      <th>One</th>\n      <td>1.15</td>\n      <td>-0.23</td>\n      <td>-1.03</td>\n    </tr>\n    <tr>\n      <th>Two</th>\n      <td>-0.26</td>\n      <td>-0.14</td>\n      <td>-1.73</td>\n    </tr>\n    <tr>\n      <th>Three</th>\n      <td>-0.17</td>\n      <td>0.43</td>\n      <td>-0.72</td>\n    </tr>\n    <tr>\n      <th>Four</th>\n      <td>0.20</td>\n      <td>0.26</td>\n      <td>-0.17</td>\n    </tr>\n  </tbody>\n</table>\n</div>"
     },
     "execution_count": 87,
     "metadata": {},
     "output_type": "execute_result"
    }
   ]
  },
  {
   "cell_type": "code",
   "source": [
    "for col in dfround.iteritems():\n",
    "    print(col)\n",
    "    print('\\n')"
   ],
   "metadata": {
    "colab": {
     "base_uri": "https://localhost:8080/"
    },
    "id": "pymFEJAsVHEE",
    "outputId": "63a2f460-5e9e-4b79-f427-20eeb400d867",
    "pycharm": {
     "name": "#%%\n"
    }
   },
   "execution_count": 88,
   "outputs": [
    {
     "name": "stdout",
     "output_type": "stream",
     "text": [
      "('A', One      1.15\n",
      "Two     -0.26\n",
      "Three   -0.17\n",
      "Four     0.20\n",
      "Name: A, dtype: float64)\n",
      "\n",
      "\n",
      "('B', One     -0.23\n",
      "Two     -0.14\n",
      "Three    0.43\n",
      "Four     0.26\n",
      "Name: B, dtype: float64)\n",
      "\n",
      "\n",
      "('C', One     -1.03\n",
      "Two     -1.73\n",
      "Three   -0.72\n",
      "Four    -0.17\n",
      "Name: C, dtype: float64)\n",
      "\n",
      "\n"
     ]
    }
   ]
  },
  {
   "cell_type": "markdown",
   "source": [
    "Each column is returned as a tuple: first item is column name, second item is Series for column.\n",
    "For each Series, index is the row index, and values are values in that column"
   ],
   "metadata": {
    "id": "GEjWhn1RVO6C",
    "pycharm": {
     "name": "#%% md\n"
    }
   }
  },
  {
   "cell_type": "markdown",
   "source": [
    "### Grouping"
   ],
   "metadata": {
    "id": "GweZFTKKOstx",
    "pycharm": {
     "name": "#%% md\n"
    }
   }
  },
  {
   "cell_type": "markdown",
   "source": [
    "State populations for some years"
   ],
   "metadata": {
    "id": "_Sxd4FLdSQUy",
    "pycharm": {
     "name": "#%% md\n"
    }
   }
  },
  {
   "cell_type": "code",
   "source": [
    "popdat = {'state': ['Arizona','Arizona','Arizona','Virginia','Virginia'],\n",
    "          'year': [2005, 2010, 2015, 2010, 2015],\n",
    "          'pop': [5.9, 6.6, 6.8, 7.9, 8.3]}\n",
    "popdf = DataFrame(popdat)\n",
    "popdf"
   ],
   "metadata": {
    "colab": {
     "base_uri": "https://localhost:8080/",
     "height": 206
    },
    "id": "dqlGwjwtOsY5",
    "outputId": "c633bae0-ddae-4d10-8905-89ed73bec0cc",
    "pycharm": {
     "name": "#%%\n"
    }
   },
   "execution_count": 89,
   "outputs": [
    {
     "data": {
      "text/plain": "      state  year  pop\n0   Arizona  2005  5.9\n1   Arizona  2010  6.6\n2   Arizona  2015  6.8\n3  Virginia  2010  7.9\n4  Virginia  2015  8.3",
      "text/html": "<div>\n<style scoped>\n    .dataframe tbody tr th:only-of-type {\n        vertical-align: middle;\n    }\n\n    .dataframe tbody tr th {\n        vertical-align: top;\n    }\n\n    .dataframe thead th {\n        text-align: right;\n    }\n</style>\n<table border=\"1\" class=\"dataframe\">\n  <thead>\n    <tr style=\"text-align: right;\">\n      <th></th>\n      <th>state</th>\n      <th>year</th>\n      <th>pop</th>\n    </tr>\n  </thead>\n  <tbody>\n    <tr>\n      <th>0</th>\n      <td>Arizona</td>\n      <td>2005</td>\n      <td>5.9</td>\n    </tr>\n    <tr>\n      <th>1</th>\n      <td>Arizona</td>\n      <td>2010</td>\n      <td>6.6</td>\n    </tr>\n    <tr>\n      <th>2</th>\n      <td>Arizona</td>\n      <td>2015</td>\n      <td>6.8</td>\n    </tr>\n    <tr>\n      <th>3</th>\n      <td>Virginia</td>\n      <td>2010</td>\n      <td>7.9</td>\n    </tr>\n    <tr>\n      <th>4</th>\n      <td>Virginia</td>\n      <td>2015</td>\n      <td>8.3</td>\n    </tr>\n  </tbody>\n</table>\n</div>"
     },
     "execution_count": 89,
     "metadata": {},
     "output_type": "execute_result"
    }
   ]
  },
  {
   "cell_type": "markdown",
   "source": [
    "Q. What is the yearly population over all states?"
   ],
   "metadata": {
    "id": "QsjI0jCKSZZ0",
    "pycharm": {
     "name": "#%% md\n"
    }
   }
  },
  {
   "cell_type": "code",
   "source": [
    "# first group by year\n",
    "yrgrp = popdf.groupby('year')\n",
    "yrgrp"
   ],
   "metadata": {
    "colab": {
     "base_uri": "https://localhost:8080/"
    },
    "id": "OHg8IXRpSVii",
    "outputId": "6884cef2-a747-4490-d95c-9829161746e6",
    "pycharm": {
     "name": "#%%\n"
    }
   },
   "execution_count": 92,
   "outputs": [
    {
     "data": {
      "text/plain": "<pandas.core.groupby.generic.DataFrameGroupBy object at 0x7fb1d835cc10>"
     },
     "execution_count": 92,
     "metadata": {},
     "output_type": "execute_result"
    }
   ]
  },
  {
   "cell_type": "code",
   "source": [
    "# then sum up within each group\n",
    "df = yrgrp.sum()  # pop is the only numeric column, so sum applies to it\n",
    "df"
   ],
   "metadata": {
    "colab": {
     "base_uri": "https://localhost:8080/",
     "height": 175
    },
    "id": "_sW2RZwCSfBa",
    "outputId": "7c44e072-f42b-4981-90ed-d651b9943407",
    "pycharm": {
     "name": "#%%\n"
    }
   },
   "execution_count": 93,
   "outputs": [
    {
     "data": {
      "text/plain": "       pop\nyear      \n2005   5.9\n2010  14.5\n2015  15.1",
      "text/html": "<div>\n<style scoped>\n    .dataframe tbody tr th:only-of-type {\n        vertical-align: middle;\n    }\n\n    .dataframe tbody tr th {\n        vertical-align: top;\n    }\n\n    .dataframe thead th {\n        text-align: right;\n    }\n</style>\n<table border=\"1\" class=\"dataframe\">\n  <thead>\n    <tr style=\"text-align: right;\">\n      <th></th>\n      <th>pop</th>\n    </tr>\n    <tr>\n      <th>year</th>\n      <th></th>\n    </tr>\n  </thead>\n  <tbody>\n    <tr>\n      <th>2005</th>\n      <td>5.9</td>\n    </tr>\n    <tr>\n      <th>2010</th>\n      <td>14.5</td>\n    </tr>\n    <tr>\n      <th>2015</th>\n      <td>15.1</td>\n    </tr>\n  </tbody>\n</table>\n</div>"
     },
     "execution_count": 93,
     "metadata": {},
     "output_type": "execute_result"
    }
   ]
  },
  {
   "cell_type": "code",
   "source": [
    "popdf['debt'] = Series([1.2,1.2,1.1,0.9,1.2]) # We can add a column this way.\n",
    "popdf"
   ],
   "metadata": {
    "colab": {
     "base_uri": "https://localhost:8080/",
     "height": 206
    },
    "id": "ySh99DAtSlkE",
    "outputId": "37f34fe7-6978-4751-cd26-c00db060518a",
    "pycharm": {
     "name": "#%%\n"
    }
   },
   "execution_count": 94,
   "outputs": [
    {
     "data": {
      "text/plain": "      state  year  pop  debt\n0   Arizona  2005  5.9   1.2\n1   Arizona  2010  6.6   1.2\n2   Arizona  2015  6.8   1.1\n3  Virginia  2010  7.9   0.9\n4  Virginia  2015  8.3   1.2",
      "text/html": "<div>\n<style scoped>\n    .dataframe tbody tr th:only-of-type {\n        vertical-align: middle;\n    }\n\n    .dataframe tbody tr th {\n        vertical-align: top;\n    }\n\n    .dataframe thead th {\n        text-align: right;\n    }\n</style>\n<table border=\"1\" class=\"dataframe\">\n  <thead>\n    <tr style=\"text-align: right;\">\n      <th></th>\n      <th>state</th>\n      <th>year</th>\n      <th>pop</th>\n      <th>debt</th>\n    </tr>\n  </thead>\n  <tbody>\n    <tr>\n      <th>0</th>\n      <td>Arizona</td>\n      <td>2005</td>\n      <td>5.9</td>\n      <td>1.2</td>\n    </tr>\n    <tr>\n      <th>1</th>\n      <td>Arizona</td>\n      <td>2010</td>\n      <td>6.6</td>\n      <td>1.2</td>\n    </tr>\n    <tr>\n      <th>2</th>\n      <td>Arizona</td>\n      <td>2015</td>\n      <td>6.8</td>\n      <td>1.1</td>\n    </tr>\n    <tr>\n      <th>3</th>\n      <td>Virginia</td>\n      <td>2010</td>\n      <td>7.9</td>\n      <td>0.9</td>\n    </tr>\n    <tr>\n      <th>4</th>\n      <td>Virginia</td>\n      <td>2015</td>\n      <td>8.3</td>\n      <td>1.2</td>\n    </tr>\n  </tbody>\n</table>\n</div>"
     },
     "execution_count": 94,
     "metadata": {},
     "output_type": "execute_result"
    }
   ]
  },
  {
   "cell_type": "markdown",
   "source": [
    "Q. What is the yearly population and debt over all states?"
   ],
   "metadata": {
    "id": "Vb1ihAxlStFu",
    "pycharm": {
     "name": "#%% md\n"
    }
   }
  },
  {
   "cell_type": "code",
   "source": [
    "yrgrp = popdf.groupby('year')\n",
    "df = yrgrp.sum()  # sum is applied to both numeric columns\n",
    "df"
   ],
   "metadata": {
    "colab": {
     "base_uri": "https://localhost:8080/",
     "height": 175
    },
    "id": "t_SdO7BOSsg5",
    "outputId": "bf958b3d-2851-477e-a249-cbcc9a7bb024",
    "pycharm": {
     "name": "#%%\n"
    }
   },
   "execution_count": 95,
   "outputs": [
    {
     "data": {
      "text/plain": "       pop  debt\nyear            \n2005   5.9   1.2\n2010  14.5   2.1\n2015  15.1   2.3",
      "text/html": "<div>\n<style scoped>\n    .dataframe tbody tr th:only-of-type {\n        vertical-align: middle;\n    }\n\n    .dataframe tbody tr th {\n        vertical-align: top;\n    }\n\n    .dataframe thead th {\n        text-align: right;\n    }\n</style>\n<table border=\"1\" class=\"dataframe\">\n  <thead>\n    <tr style=\"text-align: right;\">\n      <th></th>\n      <th>pop</th>\n      <th>debt</th>\n    </tr>\n    <tr>\n      <th>year</th>\n      <th></th>\n      <th></th>\n    </tr>\n  </thead>\n  <tbody>\n    <tr>\n      <th>2005</th>\n      <td>5.9</td>\n      <td>1.2</td>\n    </tr>\n    <tr>\n      <th>2010</th>\n      <td>14.5</td>\n      <td>2.1</td>\n    </tr>\n    <tr>\n      <th>2015</th>\n      <td>15.1</td>\n      <td>2.3</td>\n    </tr>\n  </tbody>\n</table>\n</div>"
     },
     "execution_count": 95,
     "metadata": {},
     "output_type": "execute_result"
    }
   ]
  },
  {
   "cell_type": "markdown",
   "source": [
    "### Practice Problem 3 \n",
    "Please give me the list of car with mpg (miles per gallon) less than 15. You will use the mpgs dataframe. The return result should be a list of car name (car name is the last column of the file) "
   ],
   "metadata": {
    "id": "lSCkEkJGWpog",
    "pycharm": {
     "name": "#%% md\n"
    }
   }
  },
  {
   "cell_type": "code",
   "source": [
    "# This is the input cell. Don't change it.\n",
    "# Please run this cell before testing your own code.\n",
    "mpgs = pd.read_csv(\"/Users/devam/PycharmProjects/GovSTEMStuff/Factors-Associated-with-Railroad-Trespassing-Events/workshops/auto_mpg_original.csv\")\n",
    "mpgs=mpgs[mpgs['mpg'].notnull()] \n",
    "mpgs=mpgs[mpgs['car name'].notnull()] \n",
    "mpgs"
   ],
   "metadata": {
    "id": "ha7sHNYlUGi4",
    "pycharm": {
     "name": "#%%\n"
    }
   },
   "execution_count": 111,
   "outputs": [
    {
     "data": {
      "text/plain": "      mpg  cylinders  displacement  horsepower  weight  acceleration  \\\n0    18.0        8.0         307.0       130.0  3504.0          12.0   \n1    15.0        8.0         350.0       165.0  3693.0          11.5   \n2    18.0        8.0         318.0       150.0  3436.0          11.0   \n3    16.0        8.0         304.0       150.0  3433.0          12.0   \n4    17.0        8.0         302.0       140.0  3449.0          10.5   \n..    ...        ...           ...         ...     ...           ...   \n401  27.0        4.0         140.0        86.0  2790.0          15.6   \n402  44.0        4.0          97.0        52.0  2130.0          24.6   \n403  32.0        4.0         135.0        84.0  2295.0          11.6   \n404  28.0        4.0         120.0        79.0  2625.0          18.6   \n405  31.0        4.0         119.0        82.0  2720.0          19.4   \n\n     model year  origin                   car name  \n0          70.0     1.0  chevrolet chevelle malibu  \n1          70.0     1.0          buick skylark 320  \n2          70.0     1.0         plymouth satellite  \n3          70.0     1.0              amc rebel sst  \n4          70.0     1.0                ford torino  \n..          ...     ...                        ...  \n401        82.0     1.0            ford mustang gl  \n402        82.0     2.0                  vw pickup  \n403        82.0     1.0              dodge rampage  \n404        82.0     1.0                ford ranger  \n405        82.0     1.0                 chevy s-10  \n\n[398 rows x 9 columns]",
      "text/html": "<div>\n<style scoped>\n    .dataframe tbody tr th:only-of-type {\n        vertical-align: middle;\n    }\n\n    .dataframe tbody tr th {\n        vertical-align: top;\n    }\n\n    .dataframe thead th {\n        text-align: right;\n    }\n</style>\n<table border=\"1\" class=\"dataframe\">\n  <thead>\n    <tr style=\"text-align: right;\">\n      <th></th>\n      <th>mpg</th>\n      <th>cylinders</th>\n      <th>displacement</th>\n      <th>horsepower</th>\n      <th>weight</th>\n      <th>acceleration</th>\n      <th>model year</th>\n      <th>origin</th>\n      <th>car name</th>\n    </tr>\n  </thead>\n  <tbody>\n    <tr>\n      <th>0</th>\n      <td>18.0</td>\n      <td>8.0</td>\n      <td>307.0</td>\n      <td>130.0</td>\n      <td>3504.0</td>\n      <td>12.0</td>\n      <td>70.0</td>\n      <td>1.0</td>\n      <td>chevrolet chevelle malibu</td>\n    </tr>\n    <tr>\n      <th>1</th>\n      <td>15.0</td>\n      <td>8.0</td>\n      <td>350.0</td>\n      <td>165.0</td>\n      <td>3693.0</td>\n      <td>11.5</td>\n      <td>70.0</td>\n      <td>1.0</td>\n      <td>buick skylark 320</td>\n    </tr>\n    <tr>\n      <th>2</th>\n      <td>18.0</td>\n      <td>8.0</td>\n      <td>318.0</td>\n      <td>150.0</td>\n      <td>3436.0</td>\n      <td>11.0</td>\n      <td>70.0</td>\n      <td>1.0</td>\n      <td>plymouth satellite</td>\n    </tr>\n    <tr>\n      <th>3</th>\n      <td>16.0</td>\n      <td>8.0</td>\n      <td>304.0</td>\n      <td>150.0</td>\n      <td>3433.0</td>\n      <td>12.0</td>\n      <td>70.0</td>\n      <td>1.0</td>\n      <td>amc rebel sst</td>\n    </tr>\n    <tr>\n      <th>4</th>\n      <td>17.0</td>\n      <td>8.0</td>\n      <td>302.0</td>\n      <td>140.0</td>\n      <td>3449.0</td>\n      <td>10.5</td>\n      <td>70.0</td>\n      <td>1.0</td>\n      <td>ford torino</td>\n    </tr>\n    <tr>\n      <th>...</th>\n      <td>...</td>\n      <td>...</td>\n      <td>...</td>\n      <td>...</td>\n      <td>...</td>\n      <td>...</td>\n      <td>...</td>\n      <td>...</td>\n      <td>...</td>\n    </tr>\n    <tr>\n      <th>401</th>\n      <td>27.0</td>\n      <td>4.0</td>\n      <td>140.0</td>\n      <td>86.0</td>\n      <td>2790.0</td>\n      <td>15.6</td>\n      <td>82.0</td>\n      <td>1.0</td>\n      <td>ford mustang gl</td>\n    </tr>\n    <tr>\n      <th>402</th>\n      <td>44.0</td>\n      <td>4.0</td>\n      <td>97.0</td>\n      <td>52.0</td>\n      <td>2130.0</td>\n      <td>24.6</td>\n      <td>82.0</td>\n      <td>2.0</td>\n      <td>vw pickup</td>\n    </tr>\n    <tr>\n      <th>403</th>\n      <td>32.0</td>\n      <td>4.0</td>\n      <td>135.0</td>\n      <td>84.0</td>\n      <td>2295.0</td>\n      <td>11.6</td>\n      <td>82.0</td>\n      <td>1.0</td>\n      <td>dodge rampage</td>\n    </tr>\n    <tr>\n      <th>404</th>\n      <td>28.0</td>\n      <td>4.0</td>\n      <td>120.0</td>\n      <td>79.0</td>\n      <td>2625.0</td>\n      <td>18.6</td>\n      <td>82.0</td>\n      <td>1.0</td>\n      <td>ford ranger</td>\n    </tr>\n    <tr>\n      <th>405</th>\n      <td>31.0</td>\n      <td>4.0</td>\n      <td>119.0</td>\n      <td>82.0</td>\n      <td>2720.0</td>\n      <td>19.4</td>\n      <td>82.0</td>\n      <td>1.0</td>\n      <td>chevy s-10</td>\n    </tr>\n  </tbody>\n</table>\n<p>398 rows × 9 columns</p>\n</div>"
     },
     "execution_count": 111,
     "metadata": {},
     "output_type": "execute_result"
    }
   ]
  },
  {
   "cell_type": "code",
   "source": [
    "# Please write you code here\n",
    "df = mpgs[['mpg','car name']]\n",
    "filtereddf = df[df[\"mpg\"] < 15]\n",
    "filtereddf = filtereddf.drop(columns='mpg')\n",
    "filtereddf"
   ],
   "metadata": {
    "id": "xOhfCOjoX8eJ",
    "pycharm": {
     "name": "#%%\n"
    }
   },
   "execution_count": 127,
   "outputs": [
    {
     "data": {
      "text/plain": "                             car name\n6                    chevrolet impala\n7                   plymouth fury iii\n8                    pontiac catalina\n16                 plymouth 'cuda 340\n19            buick estate wagon (sw)\n31                          ford f250\n32                          chevy c20\n33                         dodge d200\n34                           hi 1200d\n45                   chevrolet impala\n46          pontiac catalina brougham\n47                   ford galaxie 500\n48                  plymouth fury iii\n49                  dodge monaco (sw)\n50           ford country squire (sw)\n51                pontiac safari (sw)\n69                   chevrolet impala\n70                   pontiac catalina\n72                   ford galaxie 500\n74                    mercury marquis\n75               buick lesabre custom\n76         oldsmobile delta 88 royale\n77             chrysler newport royal\n80   chevrolet chevelle concours (sw)\n81              ford gran torino (sw)\n82     plymouth satellite custom (sw)\n92                  buick century 350\n93                        amc matador\n94                   chevrolet malibu\n95                   ford gran torino\n97           mercury marquis brougham\n98          chevrolet caprice classic\n99                           ford ltd\n100          plymouth fury gran sedan\n101      chrysler new yorker brougham\n102          buick electra 225 custom\n103           amc ambassador brougham\n110                  chevrolet impala\n111                      ford country\n112            plymouth custom suburb\n113          oldsmobile vista cruiser\n131                  oldsmobile omega\n144          buick century luxus (sw)\n145         dodge coronet custom (sw)\n146             ford gran torino (sw)\n147                  amc matador (sw)\n166                          ford ltd\n173                   ford mustang ii\n197                  ford gran torino\n215        plymouth volare premier v8\n220                         chevy c10\n221                         ford f108\n222                        dodge d100",
      "text/html": "<div>\n<style scoped>\n    .dataframe tbody tr th:only-of-type {\n        vertical-align: middle;\n    }\n\n    .dataframe tbody tr th {\n        vertical-align: top;\n    }\n\n    .dataframe thead th {\n        text-align: right;\n    }\n</style>\n<table border=\"1\" class=\"dataframe\">\n  <thead>\n    <tr style=\"text-align: right;\">\n      <th></th>\n      <th>car name</th>\n    </tr>\n  </thead>\n  <tbody>\n    <tr>\n      <th>6</th>\n      <td>chevrolet impala</td>\n    </tr>\n    <tr>\n      <th>7</th>\n      <td>plymouth fury iii</td>\n    </tr>\n    <tr>\n      <th>8</th>\n      <td>pontiac catalina</td>\n    </tr>\n    <tr>\n      <th>16</th>\n      <td>plymouth 'cuda 340</td>\n    </tr>\n    <tr>\n      <th>19</th>\n      <td>buick estate wagon (sw)</td>\n    </tr>\n    <tr>\n      <th>31</th>\n      <td>ford f250</td>\n    </tr>\n    <tr>\n      <th>32</th>\n      <td>chevy c20</td>\n    </tr>\n    <tr>\n      <th>33</th>\n      <td>dodge d200</td>\n    </tr>\n    <tr>\n      <th>34</th>\n      <td>hi 1200d</td>\n    </tr>\n    <tr>\n      <th>45</th>\n      <td>chevrolet impala</td>\n    </tr>\n    <tr>\n      <th>46</th>\n      <td>pontiac catalina brougham</td>\n    </tr>\n    <tr>\n      <th>47</th>\n      <td>ford galaxie 500</td>\n    </tr>\n    <tr>\n      <th>48</th>\n      <td>plymouth fury iii</td>\n    </tr>\n    <tr>\n      <th>49</th>\n      <td>dodge monaco (sw)</td>\n    </tr>\n    <tr>\n      <th>50</th>\n      <td>ford country squire (sw)</td>\n    </tr>\n    <tr>\n      <th>51</th>\n      <td>pontiac safari (sw)</td>\n    </tr>\n    <tr>\n      <th>69</th>\n      <td>chevrolet impala</td>\n    </tr>\n    <tr>\n      <th>70</th>\n      <td>pontiac catalina</td>\n    </tr>\n    <tr>\n      <th>72</th>\n      <td>ford galaxie 500</td>\n    </tr>\n    <tr>\n      <th>74</th>\n      <td>mercury marquis</td>\n    </tr>\n    <tr>\n      <th>75</th>\n      <td>buick lesabre custom</td>\n    </tr>\n    <tr>\n      <th>76</th>\n      <td>oldsmobile delta 88 royale</td>\n    </tr>\n    <tr>\n      <th>77</th>\n      <td>chrysler newport royal</td>\n    </tr>\n    <tr>\n      <th>80</th>\n      <td>chevrolet chevelle concours (sw)</td>\n    </tr>\n    <tr>\n      <th>81</th>\n      <td>ford gran torino (sw)</td>\n    </tr>\n    <tr>\n      <th>82</th>\n      <td>plymouth satellite custom (sw)</td>\n    </tr>\n    <tr>\n      <th>92</th>\n      <td>buick century 350</td>\n    </tr>\n    <tr>\n      <th>93</th>\n      <td>amc matador</td>\n    </tr>\n    <tr>\n      <th>94</th>\n      <td>chevrolet malibu</td>\n    </tr>\n    <tr>\n      <th>95</th>\n      <td>ford gran torino</td>\n    </tr>\n    <tr>\n      <th>97</th>\n      <td>mercury marquis brougham</td>\n    </tr>\n    <tr>\n      <th>98</th>\n      <td>chevrolet caprice classic</td>\n    </tr>\n    <tr>\n      <th>99</th>\n      <td>ford ltd</td>\n    </tr>\n    <tr>\n      <th>100</th>\n      <td>plymouth fury gran sedan</td>\n    </tr>\n    <tr>\n      <th>101</th>\n      <td>chrysler new yorker brougham</td>\n    </tr>\n    <tr>\n      <th>102</th>\n      <td>buick electra 225 custom</td>\n    </tr>\n    <tr>\n      <th>103</th>\n      <td>amc ambassador brougham</td>\n    </tr>\n    <tr>\n      <th>110</th>\n      <td>chevrolet impala</td>\n    </tr>\n    <tr>\n      <th>111</th>\n      <td>ford country</td>\n    </tr>\n    <tr>\n      <th>112</th>\n      <td>plymouth custom suburb</td>\n    </tr>\n    <tr>\n      <th>113</th>\n      <td>oldsmobile vista cruiser</td>\n    </tr>\n    <tr>\n      <th>131</th>\n      <td>oldsmobile omega</td>\n    </tr>\n    <tr>\n      <th>144</th>\n      <td>buick century luxus (sw)</td>\n    </tr>\n    <tr>\n      <th>145</th>\n      <td>dodge coronet custom (sw)</td>\n    </tr>\n    <tr>\n      <th>146</th>\n      <td>ford gran torino (sw)</td>\n    </tr>\n    <tr>\n      <th>147</th>\n      <td>amc matador (sw)</td>\n    </tr>\n    <tr>\n      <th>166</th>\n      <td>ford ltd</td>\n    </tr>\n    <tr>\n      <th>173</th>\n      <td>ford mustang ii</td>\n    </tr>\n    <tr>\n      <th>197</th>\n      <td>ford gran torino</td>\n    </tr>\n    <tr>\n      <th>215</th>\n      <td>plymouth volare premier v8</td>\n    </tr>\n    <tr>\n      <th>220</th>\n      <td>chevy c10</td>\n    </tr>\n    <tr>\n      <th>221</th>\n      <td>ford f108</td>\n    </tr>\n    <tr>\n      <th>222</th>\n      <td>dodge d100</td>\n    </tr>\n  </tbody>\n</table>\n</div>"
     },
     "execution_count": 127,
     "metadata": {},
     "output_type": "execute_result"
    }
   ]
  },
  {
   "cell_type": "markdown",
   "source": [
    "### Practice Problem 4:\n",
    " What is the average accelaration for cars with fuel consumption less than or equal to 20 mpg? Please write a piece of code to answer this question. The input data is still the mpgs dataframe.\n",
    "\n",
    "Hint: You can use groupby() to answer this question."
   ],
   "metadata": {
    "id": "UrfJ8GHLVncL",
    "pycharm": {
     "name": "#%% md\n"
    }
   }
  },
  {
   "cell_type": "code",
   "source": [
    "# This is the input cell. Don't change it.\n",
    "# Please run this cell before testing your own code.\n",
    "mpgs = pd.read_csv(\"/Users/devam/PycharmProjects/GovSTEMStuff/Factors-Associated-with-Railroad-Trespassing-Events/workshops/auto_mpg_original.csv\")\n",
    "mpgs=mpgs[mpgs['mpg'].notnull()] \n",
    "mpgs=mpgs[mpgs['car name'].notnull()] \n",
    "mpgs"
   ],
   "metadata": {
    "id": "R-4tU9oVWf4V",
    "pycharm": {
     "name": "#%%\n"
    }
   },
   "execution_count": 128,
   "outputs": [
    {
     "data": {
      "text/plain": "      mpg  cylinders  displacement  horsepower  weight  acceleration  \\\n0    18.0        8.0         307.0       130.0  3504.0          12.0   \n1    15.0        8.0         350.0       165.0  3693.0          11.5   \n2    18.0        8.0         318.0       150.0  3436.0          11.0   \n3    16.0        8.0         304.0       150.0  3433.0          12.0   \n4    17.0        8.0         302.0       140.0  3449.0          10.5   \n..    ...        ...           ...         ...     ...           ...   \n401  27.0        4.0         140.0        86.0  2790.0          15.6   \n402  44.0        4.0          97.0        52.0  2130.0          24.6   \n403  32.0        4.0         135.0        84.0  2295.0          11.6   \n404  28.0        4.0         120.0        79.0  2625.0          18.6   \n405  31.0        4.0         119.0        82.0  2720.0          19.4   \n\n     model year  origin                   car name  \n0          70.0     1.0  chevrolet chevelle malibu  \n1          70.0     1.0          buick skylark 320  \n2          70.0     1.0         plymouth satellite  \n3          70.0     1.0              amc rebel sst  \n4          70.0     1.0                ford torino  \n..          ...     ...                        ...  \n401        82.0     1.0            ford mustang gl  \n402        82.0     2.0                  vw pickup  \n403        82.0     1.0              dodge rampage  \n404        82.0     1.0                ford ranger  \n405        82.0     1.0                 chevy s-10  \n\n[398 rows x 9 columns]",
      "text/html": "<div>\n<style scoped>\n    .dataframe tbody tr th:only-of-type {\n        vertical-align: middle;\n    }\n\n    .dataframe tbody tr th {\n        vertical-align: top;\n    }\n\n    .dataframe thead th {\n        text-align: right;\n    }\n</style>\n<table border=\"1\" class=\"dataframe\">\n  <thead>\n    <tr style=\"text-align: right;\">\n      <th></th>\n      <th>mpg</th>\n      <th>cylinders</th>\n      <th>displacement</th>\n      <th>horsepower</th>\n      <th>weight</th>\n      <th>acceleration</th>\n      <th>model year</th>\n      <th>origin</th>\n      <th>car name</th>\n    </tr>\n  </thead>\n  <tbody>\n    <tr>\n      <th>0</th>\n      <td>18.0</td>\n      <td>8.0</td>\n      <td>307.0</td>\n      <td>130.0</td>\n      <td>3504.0</td>\n      <td>12.0</td>\n      <td>70.0</td>\n      <td>1.0</td>\n      <td>chevrolet chevelle malibu</td>\n    </tr>\n    <tr>\n      <th>1</th>\n      <td>15.0</td>\n      <td>8.0</td>\n      <td>350.0</td>\n      <td>165.0</td>\n      <td>3693.0</td>\n      <td>11.5</td>\n      <td>70.0</td>\n      <td>1.0</td>\n      <td>buick skylark 320</td>\n    </tr>\n    <tr>\n      <th>2</th>\n      <td>18.0</td>\n      <td>8.0</td>\n      <td>318.0</td>\n      <td>150.0</td>\n      <td>3436.0</td>\n      <td>11.0</td>\n      <td>70.0</td>\n      <td>1.0</td>\n      <td>plymouth satellite</td>\n    </tr>\n    <tr>\n      <th>3</th>\n      <td>16.0</td>\n      <td>8.0</td>\n      <td>304.0</td>\n      <td>150.0</td>\n      <td>3433.0</td>\n      <td>12.0</td>\n      <td>70.0</td>\n      <td>1.0</td>\n      <td>amc rebel sst</td>\n    </tr>\n    <tr>\n      <th>4</th>\n      <td>17.0</td>\n      <td>8.0</td>\n      <td>302.0</td>\n      <td>140.0</td>\n      <td>3449.0</td>\n      <td>10.5</td>\n      <td>70.0</td>\n      <td>1.0</td>\n      <td>ford torino</td>\n    </tr>\n    <tr>\n      <th>...</th>\n      <td>...</td>\n      <td>...</td>\n      <td>...</td>\n      <td>...</td>\n      <td>...</td>\n      <td>...</td>\n      <td>...</td>\n      <td>...</td>\n      <td>...</td>\n    </tr>\n    <tr>\n      <th>401</th>\n      <td>27.0</td>\n      <td>4.0</td>\n      <td>140.0</td>\n      <td>86.0</td>\n      <td>2790.0</td>\n      <td>15.6</td>\n      <td>82.0</td>\n      <td>1.0</td>\n      <td>ford mustang gl</td>\n    </tr>\n    <tr>\n      <th>402</th>\n      <td>44.0</td>\n      <td>4.0</td>\n      <td>97.0</td>\n      <td>52.0</td>\n      <td>2130.0</td>\n      <td>24.6</td>\n      <td>82.0</td>\n      <td>2.0</td>\n      <td>vw pickup</td>\n    </tr>\n    <tr>\n      <th>403</th>\n      <td>32.0</td>\n      <td>4.0</td>\n      <td>135.0</td>\n      <td>84.0</td>\n      <td>2295.0</td>\n      <td>11.6</td>\n      <td>82.0</td>\n      <td>1.0</td>\n      <td>dodge rampage</td>\n    </tr>\n    <tr>\n      <th>404</th>\n      <td>28.0</td>\n      <td>4.0</td>\n      <td>120.0</td>\n      <td>79.0</td>\n      <td>2625.0</td>\n      <td>18.6</td>\n      <td>82.0</td>\n      <td>1.0</td>\n      <td>ford ranger</td>\n    </tr>\n    <tr>\n      <th>405</th>\n      <td>31.0</td>\n      <td>4.0</td>\n      <td>119.0</td>\n      <td>82.0</td>\n      <td>2720.0</td>\n      <td>19.4</td>\n      <td>82.0</td>\n      <td>1.0</td>\n      <td>chevy s-10</td>\n    </tr>\n  </tbody>\n</table>\n<p>398 rows × 9 columns</p>\n</div>"
     },
     "execution_count": 128,
     "metadata": {},
     "output_type": "execute_result"
    }
   ]
  },
  {
   "cell_type": "code",
   "source": [
    "# Please write you code here\n",
    "filtered = mpgs[['mpg','acceleration']]\n",
    "filtered = filtered[filtered['mpg'] <= 20]\n",
    "filtered = filtered.drop(columns='mpg')\n",
    "filtered = filtered.sum()/filtered.size\n",
    "filtered"
   ],
   "metadata": {
    "id": "iMomKpLEWgn-",
    "pycharm": {
     "name": "#%%\n"
    }
   },
   "execution_count": 134,
   "outputs": [
    {
     "data": {
      "text/plain": "acceleration    14.25375\ndtype: float64"
     },
     "execution_count": 134,
     "metadata": {},
     "output_type": "execute_result"
    }
   ]
  },
  {
   "cell_type": "markdown",
   "source": [
    "Your answer:"
   ],
   "metadata": {
    "id": "xbPS3dhUWiXY",
    "pycharm": {
     "name": "#%% md\n"
    }
   }
  },
  {
   "cell_type": "markdown",
   "source": [
    "## Matplotlab\n",
    "\n",
    "This library is for data visulization."
   ],
   "metadata": {
    "id": "j_AzmKjEWmiP",
    "pycharm": {
     "name": "#%% md\n"
    }
   }
  },
  {
   "cell_type": "code",
   "source": [
    "from matplotlib import pyplot as plt # You need to import pyplot whenever you use matplotlab"
   ],
   "metadata": {
    "id": "p76DXZUqWpc_",
    "pycharm": {
     "name": "#%%\n"
    }
   },
   "execution_count": 135,
   "outputs": []
  },
  {
   "cell_type": "markdown",
   "source": [
    "### Line plot "
   ],
   "metadata": {
    "id": "PKNcM9habrro",
    "pycharm": {
     "name": "#%% md\n"
    }
   }
  },
  {
   "cell_type": "code",
   "source": [
    "# a line plot of share price against years\n",
    "years = [2015,2016,2017,2018,2019]\n",
    "share_price = [105,116,169,148,297]\n",
    "plt.plot(years,share_price)\n",
    "plt.show()"
   ],
   "metadata": {
    "colab": {
     "base_uri": "https://localhost:8080/",
     "height": 265
    },
    "id": "rgwGWKu6a2Z2",
    "outputId": "0319d866-bd0b-45db-8cad-59b485fedbd7",
    "pycharm": {
     "name": "#%%\n"
    }
   },
   "execution_count": 136,
   "outputs": [
    {
     "data": {
      "text/plain": "<Figure size 432x288 with 1 Axes>",
      "image/png": "[encoded data removed]"
     },
     "metadata": {
      "needs_background": "light"
     },
     "output_type": "display_data"
    }
   ]
  },
  {
   "cell_type": "code",
   "source": [
    "# save figure\n",
    "plt.savefig('stock_trends.png')  # figure will be empty because you have already done show!\n",
    "# This figure is saved in you file folder. Click on the fourth icon in the left bar. (The icon looks like a folder on your own computer)."
   ],
   "metadata": {
    "colab": {
     "base_uri": "https://localhost:8080/",
     "height": 34
    },
    "id": "ak0Ad3Ova9uK",
    "outputId": "a7790a6f-3fdf-49ec-8f03-6c1803c2580d",
    "pycharm": {
     "name": "#%%\n"
    }
   },
   "execution_count": 137,
   "outputs": [
    {
     "data": {
      "text/plain": "<Figure size 432x288 with 0 Axes>"
     },
     "metadata": {},
     "output_type": "display_data"
    }
   ]
  },
  {
   "cell_type": "code",
   "source": [
    "# change x axis ticks\n",
    "years = [2015,2016,2017,2018,2019]\n",
    "share_price = [105,116,169,148,297]\n",
    "plt.xticks([2015,2016,2017,2018,2019])\n",
    "plt.plot(years,share_price)\n",
    "plt.show()"
   ],
   "metadata": {
    "colab": {
     "base_uri": "https://localhost:8080/",
     "height": 265
    },
    "id": "-qX-evYUbUU-",
    "outputId": "bf6246f9-2c5e-475e-f2db-eb3e31583aa0",
    "pycharm": {
     "name": "#%%\n"
    }
   },
   "execution_count": 138,
   "outputs": [
    {
     "data": {
      "text/plain": "<Figure size 432x288 with 1 Axes>",
      "image/png": "[encoded data removed]"
     },
     "metadata": {
      "needs_background": "light"
     },
     "output_type": "display_data"
    }
   ]
  },
  {
   "cell_type": "code",
   "source": [
    "# mark the points on the curve, color the line green\n",
    "# label the plot and the axes, with font sizes\n",
    "years = [2015,2016,2017,2018,2019]\n",
    "share_price = [105,116,169,148,297]\n",
    "plt.xticks([2015,2016,2017,2018,2019])\n",
    "plt.ylabel('Share Price',fontsize=12)\n",
    "plt.title('Apple Stock',fontsize=14)\n",
    "plt.plot(years,share_price,marker='o',color='green')\n",
    "plt.show()"
   ],
   "metadata": {
    "colab": {
     "base_uri": "https://localhost:8080/",
     "height": 282
    },
    "id": "FAEP8qKxbfyT",
    "outputId": "24c3df7d-5aa7-4db9-922e-6e9b06185817",
    "pycharm": {
     "name": "#%%\n"
    }
   },
   "execution_count": 139,
   "outputs": [
    {
     "data": {
      "text/plain": "<Figure size 432x288 with 1 Axes>",
      "image/png": "[encoded data removed]"
     },
     "metadata": {
      "needs_background": "light"
     },
     "output_type": "display_data"
    }
   ]
  },
  {
   "cell_type": "code",
   "source": [
    "# figure size, different types of lines, legend\n",
    "years = [2015,2016,2017,2018,2019]\n",
    "apple_share_price = [105,116,169,148,297]\n",
    "facebook_share_price = [104,115,176,134,208]\n",
    "\n",
    "plt.figure(figsize=(8,5))  # figure size, default units are inches\n",
    "plt.xticks([2015,2016,2017,2018,2019])\n",
    "plt.ylabel('Share Price',fontsize=12)\n",
    "plt.title('Stock Performance',fontsize=14)\n",
    "plt.plot(years,apple_share_price,'g-',marker='o',label='Apple')  #'g-' means green, solid\n",
    "plt.plot(years,facebook_share_price,'r--',marker='s',label='Facebook') # 'r--' means red, dashed\n",
    "plt.legend(loc='best')  # legend maps line to label, loc specifies where\n",
    "plt.show()"
   ],
   "metadata": {
    "colab": {
     "base_uri": "https://localhost:8080/",
     "height": 337
    },
    "id": "GTHiuzwSbj0C",
    "outputId": "f66b6c47-1a2d-4f55-f429-679fa31168cf",
    "pycharm": {
     "name": "#%%\n"
    }
   },
   "execution_count": 140,
   "outputs": [
    {
     "data": {
      "text/plain": "<Figure size 576x360 with 1 Axes>",
      "image/png": "[encoded data removed]"
     },
     "metadata": {
      "needs_background": "light"
     },
     "output_type": "display_data"
    }
   ]
  },
  {
   "cell_type": "markdown",
   "source": [
    "### scatter plot"
   ],
   "metadata": {
    "id": "ZwQbxH8MbyJw",
    "pycharm": {
     "name": "#%% md\n"
    }
   }
  },
  {
   "cell_type": "markdown",
   "source": [
    "#### Marker size"
   ],
   "metadata": {
    "id": "puTpkAiqb5S3",
    "pycharm": {
     "name": "#%% md\n"
    }
   }
  },
  {
   "cell_type": "code",
   "source": [
    "import numpy as np\n",
    "def linfunc(x):\n",
    "    return 1.7*x-5\n",
    "\n",
    "x = np.array([5,10,15,20,25,30])\n",
    "y = linfunc(x)\n",
    "plt.scatter(x,y,s=y)  # s argument used for varying sizes of plot points\n",
    "plt.yticks(range(5,51,5))\n",
    "plt.show()"
   ],
   "metadata": {
    "colab": {
     "base_uri": "https://localhost:8080/",
     "height": 269
    },
    "id": "Pik5VYv0b0-8",
    "outputId": "599e0873-4fdc-4dbd-c31f-ea6637757d26",
    "pycharm": {
     "name": "#%%\n"
    }
   },
   "execution_count": 141,
   "outputs": [
    {
     "data": {
      "text/plain": "<Figure size 432x288 with 1 Axes>",
      "image/png": "[encoded data removed]"
     },
     "metadata": {
      "needs_background": "light"
     },
     "output_type": "display_data"
    }
   ]
  },
  {
   "cell_type": "code",
   "source": [
    "# annotating points with text\n",
    "mpg = [10,15,20,25,30,35]\n",
    "horsepower = [215,165,95,95,70,69]\n",
    "car = ['Ford F250','Buick Skylark 320','Plymouth Duster',\n",
    "       'Saab 99e','Peugeot 304','Datsun 1200']\n",
    "plt.figure(figsize=(7,5))\n",
    "plt.scatter(mpg, horsepower)\n",
    "plt.yticks(range(40,241,20))\n",
    "plt.xticks(range(5,41,5))\n",
    "plt.xlabel('Miles per gallon',fontsize=12)\n",
    "plt.ylabel('Horsepower',fontsize=12)\n",
    "for cname, mperg, hp in zip(car[:3], mpg[:3], horsepower[:3]):\n",
    "    plt.annotate(cname, xy=(mperg,hp), \n",
    "                 xytext=(-40,7),textcoords='offset points')\n",
    "for cname, mperg, hp in zip(car[3:-1], mpg[3:-1], horsepower[3:-1]):\n",
    "    plt.annotate(cname, xy=(mperg,hp), \n",
    "                 xytext=(-20,-15),textcoords='offset points')  \n",
    "plt.annotate(car[-1],xy=(mpg[-1],horsepower[-1]), \n",
    "                 xytext=(-20,7),textcoords='offset points')  \n",
    "plt.show()"
   ],
   "metadata": {
    "colab": {
     "base_uri": "https://localhost:8080/",
     "height": 341
    },
    "id": "WBwuPLEpboJd",
    "outputId": "de995fde-70bc-467a-c2c0-085efde6891e",
    "pycharm": {
     "name": "#%%\n"
    }
   },
   "execution_count": 142,
   "outputs": [
    {
     "data": {
      "text/plain": "<Figure size 504x360 with 1 Axes>",
      "image/png": "[encoded data removed]"
     },
     "metadata": {
      "needs_background": "light"
     },
     "output_type": "display_data"
    }
   ]
  },
  {
   "cell_type": "markdown",
   "source": [
    "### Bar chart"
   ],
   "metadata": {
    "id": "NCPyHcefcDlS",
    "pycharm": {
     "name": "#%% md\n"
    }
   }
  },
  {
   "cell_type": "code",
   "source": [
    "score_ranges = ['0-50','51-60','61-70','71-80','81-90','91-100']\n",
    "num_students = [44,33,28,47,24,18]\n",
    "plt.figure(figsize=(8,5))\n",
    "plt.bar(range(len(num_students)), num_students)\n",
    "plt.show()"
   ],
   "metadata": {
    "colab": {
     "base_uri": "https://localhost:8080/",
     "height": 320
    },
    "id": "9GwitdR0cBqH",
    "outputId": "76a06f9f-5cd4-45f5-8834-04d951355c50",
    "pycharm": {
     "name": "#%%\n"
    }
   },
   "execution_count": 143,
   "outputs": [
    {
     "data": {
      "text/plain": "<Figure size 576x360 with 1 Axes>",
      "image/png": "[encoded data removed]"
     },
     "metadata": {
      "needs_background": "light"
     },
     "output_type": "display_data"
    }
   ]
  },
  {
   "cell_type": "code",
   "source": [
    "# use actual score range values for the x ticks, change y ticks\n",
    "score_ranges = ['0-50','51-60','61-70','71-80','81-90','91-100']\n",
    "num_students = [44,33,28,47,24,18]\n",
    "plt.figure(figsize=(8,5))\n",
    "plt.bar(range(len(num_students)), num_students)\n",
    "plt.xticks(range(len(num_students)),score_ranges)  # first arg is numeric set, second is mapped labels\n",
    "plt.yticks(range(0,51,5))\n",
    "plt.show()"
   ],
   "metadata": {
    "colab": {
     "base_uri": "https://localhost:8080/",
     "height": 324
    },
    "id": "PKhchYpScIO3",
    "outputId": "beb4d451-5bb1-4ed6-ee58-6ae32c223df3",
    "pycharm": {
     "name": "#%%\n"
    }
   },
   "execution_count": 144,
   "outputs": [
    {
     "data": {
      "text/plain": "<Figure size 576x360 with 1 Axes>",
      "image/png": "[encoded data removed]"
     },
     "metadata": {
      "needs_background": "light"
     },
     "output_type": "display_data"
    }
   ]
  },
  {
   "cell_type": "code",
   "source": [
    "num_students = [3,5,8,12,15,33,28,47,24,18]\n",
    "plt.figure(figsize=(8,5))\n",
    "plt.bar(range(0,100,10), num_students,\n",
    "            10,  # width of each bar is 10\n",
    "            color='#bffa45', # bar color\n",
    "            edgecolor='green')  # bar edge color\n",
    "plt.xticks(range(0,100,10))\n",
    "plt.yticks(range(0,51,5))\n",
    "plt.show()"
   ],
   "metadata": {
    "colab": {
     "base_uri": "https://localhost:8080/",
     "height": 324
    },
    "id": "90Qa8zUpcNDV",
    "outputId": "4976211b-023a-4c25-c82c-5c0ba7ce9ba2",
    "pycharm": {
     "name": "#%%\n"
    }
   },
   "execution_count": 38,
   "outputs": [
    {
     "output_type": "display_data",
     "data": {
      "text/plain": [
       "<Figure size 576x360 with 1 Axes>"
      ],
      "image/png": "[encoded data removed]"
     },
     "metadata": {
      "needs_background": "light"
     }
    }
   ]
  },
  {
   "cell_type": "markdown",
   "source": [
    "#### Compartive Bar Charts"
   ],
   "metadata": {
    "id": "uzykn01ocXO7",
    "pycharm": {
     "name": "#%% md\n"
    }
   }
  },
  {
   "cell_type": "code",
   "source": [
    "y1 = [20,30,45]\n",
    "x1 = [5,25,45]\n",
    "plt.bar(x1,y1,4,label='one')\n",
    "y2 = [16,38,43]\n",
    "x2 = [9,29,49]\n",
    "plt.bar(x2,y2,4,label='two')\n",
    "plt.xticks([7,27,47],['A','B','C'])\n",
    "plt.ylim(0,50)\n",
    "plt.legend()\n",
    "plt.show"
   ],
   "metadata": {
    "colab": {
     "base_uri": "https://localhost:8080/",
     "height": 286
    },
    "id": "lcmk3YYScRTZ",
    "outputId": "7b504e87-e52c-4018-8ac8-2922768eca9a",
    "pycharm": {
     "name": "#%%\n"
    }
   },
   "execution_count": 145,
   "outputs": [
    {
     "data": {
      "text/plain": "<function matplotlib.pyplot.show(close=None, block=None)>"
     },
     "execution_count": 145,
     "metadata": {},
     "output_type": "execute_result"
    },
    {
     "data": {
      "text/plain": "<Figure size 432x288 with 1 Axes>",
      "image/png": "[encoded data removed]"
     },
     "metadata": {
      "needs_background": "light"
     },
     "output_type": "display_data"
    }
   ]
  },
  {
   "cell_type": "markdown",
   "source": [
    "### Histogram\n",
    "Like a bar chart, but used to partition a range of values (bar chart is used for discrete sets of values, including categorical sets that are not a partition of a global range)"
   ],
   "metadata": {
    "id": "6bZ1_fG1cjMo",
    "pycharm": {
     "name": "#%% md\n"
    }
   }
  },
  {
   "cell_type": "code",
   "source": [
    "scores = np.abs(np.random.randn(50)*20).astype(int)\n",
    "print(scores)"
   ],
   "metadata": {
    "colab": {
     "base_uri": "https://localhost:8080/"
    },
    "id": "sSOJ1ltoccRU",
    "outputId": "2c7d7d6f-2cf4-4f54-f0a9-2ccac669b0ed",
    "pycharm": {
     "name": "#%%\n"
    }
   },
   "execution_count": 146,
   "outputs": [
    {
     "name": "stdout",
     "output_type": "stream",
     "text": [
      "[ 7  6  6 15  4  1  4 11  9 28 29 27 35 18 13 18  7 18 31  0 13  4 21 32\n",
      "  0 33 13  7 14 19  6 20 44  6  9 17 21 25  2  7  3  2 31 37  6 15 27  8\n",
      " 18 13]\n"
     ]
    }
   ]
  },
  {
   "cell_type": "code",
   "source": [
    "max_score = scores.max()\n",
    "if max_score % 5 == 0:\n",
    "    upper = max_score\n",
    "else:\n",
    "    upper = max_score - max_score % 5 + 5\n",
    "max_score, upper"
   ],
   "metadata": {
    "colab": {
     "base_uri": "https://localhost:8080/"
    },
    "id": "ixLkN7VLcvpY",
    "outputId": "444b48a8-302e-47b5-c578-44f697c4d5ed",
    "pycharm": {
     "name": "#%%\n"
    }
   },
   "execution_count": 147,
   "outputs": [
    {
     "data": {
      "text/plain": "(44, 45)"
     },
     "execution_count": 147,
     "metadata": {},
     "output_type": "execute_result"
    }
   ]
  },
  {
   "cell_type": "code",
   "source": [
    "# adjust range of histogram and xticks according to max value in dataset\n",
    "plt.figure(figsize=(6, 4))\n",
    "plt.hist(scores,bins=range(0,upper+1,5),color='#bffa45',edgecolor='green')\n",
    "plt.xticks(range(0,upper+1,5))\n",
    "plt.show()"
   ],
   "metadata": {
    "colab": {
     "base_uri": "https://localhost:8080/",
     "height": 265
    },
    "id": "_adsssqqczd_",
    "outputId": "feb8b9c1-aeda-4f25-b6f5-12d24cad09a6",
    "pycharm": {
     "name": "#%%\n"
    }
   },
   "execution_count": 148,
   "outputs": [
    {
     "data": {
      "text/plain": "<Figure size 432x288 with 1 Axes>",
      "image/png": "[encoded data removed]"
     },
     "metadata": {
      "needs_background": "light"
     },
     "output_type": "display_data"
    }
   ]
  },
  {
   "cell_type": "markdown",
   "source": [
    "Bins are [0,5), [5,10), ... [35,40), [40,45]\n",
    "Meaning, the upper limit in each bin is not included, except in the last bin"
   ],
   "metadata": {
    "id": "YOozT4ikc87N",
    "pycharm": {
     "name": "#%% md\n"
    }
   }
  },
  {
   "cell_type": "markdown",
   "source": [
    "Practice Problem 5:\n",
    "I want to know the distribution of fuel consumption (mpg). How many cars have less than 10 mpg? How many cars have between 10 mpg(included) and 20 mpg(not included)? And so on. The range for each category is 10. For example, the first category is 0-10 mpg (not include 10), and the second is 10-20 mpg (not include 20), and so on. Generate a relevant graph to answer this question.\n",
    "\n",
    "Again, you will use the mpgs dataframe for analysis."
   ],
   "metadata": {
    "id": "qwC_33Fec-yn",
    "pycharm": {
     "name": "#%% md\n"
    }
   }
  },
  {
   "cell_type": "code",
   "source": [
    "# This is the input cell. Don't change it.\n",
    "# Please run this cell before testing your own code.\n",
    "mpgs = pd.read_csv(\"/Users/devam/PycharmProjects/GovSTEMStuff/Factors-Associated-with-Railroad-Trespassing-Events/workshops/auto_mpg_original.csv\")\n",
    "mpgs=mpgs[mpgs['mpg'].notnull()] \n",
    "mpgs=mpgs[mpgs['car name'].notnull()] \n",
    "mpgs"
   ],
   "metadata": {
    "id": "8bw5w6aNd_Rt",
    "pycharm": {
     "name": "#%%\n"
    }
   },
   "execution_count": 165,
   "outputs": [
    {
     "data": {
      "text/plain": "      mpg  cylinders  displacement  horsepower  weight  acceleration  \\\n0    18.0        8.0         307.0       130.0  3504.0          12.0   \n1    15.0        8.0         350.0       165.0  3693.0          11.5   \n2    18.0        8.0         318.0       150.0  3436.0          11.0   \n3    16.0        8.0         304.0       150.0  3433.0          12.0   \n4    17.0        8.0         302.0       140.0  3449.0          10.5   \n..    ...        ...           ...         ...     ...           ...   \n401  27.0        4.0         140.0        86.0  2790.0          15.6   \n402  44.0        4.0          97.0        52.0  2130.0          24.6   \n403  32.0        4.0         135.0        84.0  2295.0          11.6   \n404  28.0        4.0         120.0        79.0  2625.0          18.6   \n405  31.0        4.0         119.0        82.0  2720.0          19.4   \n\n     model year  origin                   car name  \n0          70.0     1.0  chevrolet chevelle malibu  \n1          70.0     1.0          buick skylark 320  \n2          70.0     1.0         plymouth satellite  \n3          70.0     1.0              amc rebel sst  \n4          70.0     1.0                ford torino  \n..          ...     ...                        ...  \n401        82.0     1.0            ford mustang gl  \n402        82.0     2.0                  vw pickup  \n403        82.0     1.0              dodge rampage  \n404        82.0     1.0                ford ranger  \n405        82.0     1.0                 chevy s-10  \n\n[398 rows x 9 columns]",
      "text/html": "<div>\n<style scoped>\n    .dataframe tbody tr th:only-of-type {\n        vertical-align: middle;\n    }\n\n    .dataframe tbody tr th {\n        vertical-align: top;\n    }\n\n    .dataframe thead th {\n        text-align: right;\n    }\n</style>\n<table border=\"1\" class=\"dataframe\">\n  <thead>\n    <tr style=\"text-align: right;\">\n      <th></th>\n      <th>mpg</th>\n      <th>cylinders</th>\n      <th>displacement</th>\n      <th>horsepower</th>\n      <th>weight</th>\n      <th>acceleration</th>\n      <th>model year</th>\n      <th>origin</th>\n      <th>car name</th>\n    </tr>\n  </thead>\n  <tbody>\n    <tr>\n      <th>0</th>\n      <td>18.0</td>\n      <td>8.0</td>\n      <td>307.0</td>\n      <td>130.0</td>\n      <td>3504.0</td>\n      <td>12.0</td>\n      <td>70.0</td>\n      <td>1.0</td>\n      <td>chevrolet chevelle malibu</td>\n    </tr>\n    <tr>\n      <th>1</th>\n      <td>15.0</td>\n      <td>8.0</td>\n      <td>350.0</td>\n      <td>165.0</td>\n      <td>3693.0</td>\n      <td>11.5</td>\n      <td>70.0</td>\n      <td>1.0</td>\n      <td>buick skylark 320</td>\n    </tr>\n    <tr>\n      <th>2</th>\n      <td>18.0</td>\n      <td>8.0</td>\n      <td>318.0</td>\n      <td>150.0</td>\n      <td>3436.0</td>\n      <td>11.0</td>\n      <td>70.0</td>\n      <td>1.0</td>\n      <td>plymouth satellite</td>\n    </tr>\n    <tr>\n      <th>3</th>\n      <td>16.0</td>\n      <td>8.0</td>\n      <td>304.0</td>\n      <td>150.0</td>\n      <td>3433.0</td>\n      <td>12.0</td>\n      <td>70.0</td>\n      <td>1.0</td>\n      <td>amc rebel sst</td>\n    </tr>\n    <tr>\n      <th>4</th>\n      <td>17.0</td>\n      <td>8.0</td>\n      <td>302.0</td>\n      <td>140.0</td>\n      <td>3449.0</td>\n      <td>10.5</td>\n      <td>70.0</td>\n      <td>1.0</td>\n      <td>ford torino</td>\n    </tr>\n    <tr>\n      <th>...</th>\n      <td>...</td>\n      <td>...</td>\n      <td>...</td>\n      <td>...</td>\n      <td>...</td>\n      <td>...</td>\n      <td>...</td>\n      <td>...</td>\n      <td>...</td>\n    </tr>\n    <tr>\n      <th>401</th>\n      <td>27.0</td>\n      <td>4.0</td>\n      <td>140.0</td>\n      <td>86.0</td>\n      <td>2790.0</td>\n      <td>15.6</td>\n      <td>82.0</td>\n      <td>1.0</td>\n      <td>ford mustang gl</td>\n    </tr>\n    <tr>\n      <th>402</th>\n      <td>44.0</td>\n      <td>4.0</td>\n      <td>97.0</td>\n      <td>52.0</td>\n      <td>2130.0</td>\n      <td>24.6</td>\n      <td>82.0</td>\n      <td>2.0</td>\n      <td>vw pickup</td>\n    </tr>\n    <tr>\n      <th>403</th>\n      <td>32.0</td>\n      <td>4.0</td>\n      <td>135.0</td>\n      <td>84.0</td>\n      <td>2295.0</td>\n      <td>11.6</td>\n      <td>82.0</td>\n      <td>1.0</td>\n      <td>dodge rampage</td>\n    </tr>\n    <tr>\n      <th>404</th>\n      <td>28.0</td>\n      <td>4.0</td>\n      <td>120.0</td>\n      <td>79.0</td>\n      <td>2625.0</td>\n      <td>18.6</td>\n      <td>82.0</td>\n      <td>1.0</td>\n      <td>ford ranger</td>\n    </tr>\n    <tr>\n      <th>405</th>\n      <td>31.0</td>\n      <td>4.0</td>\n      <td>119.0</td>\n      <td>82.0</td>\n      <td>2720.0</td>\n      <td>19.4</td>\n      <td>82.0</td>\n      <td>1.0</td>\n      <td>chevy s-10</td>\n    </tr>\n  </tbody>\n</table>\n<p>398 rows × 9 columns</p>\n</div>"
     },
     "execution_count": 165,
     "metadata": {},
     "output_type": "execute_result"
    }
   ]
  },
  {
   "cell_type": "code",
   "source": [
    "# Please write you code here.\n",
    "filtered = mpgs['mpg']\n",
    "filtered = filtered.astype(int)\n",
    "max = filtered.max()\n",
    "\n",
    "if max % 10 == 0:\n",
    "    upper = max\n",
    "else:\n",
    "    upper = max - max % 10 + 10\n",
    "    int(upper)\n",
    "\n",
    "plt.figure(figsize=(6,5))\n",
    "plt.hist(mpgs['mpg'],bins=range(0,upper+1,10),color='blue',edgecolor='black')\n",
    "plt.xticks(range(0,upper+1,10))\n",
    "plt.title('Distribution of MPG')\n",
    "plt.xlabel('mpg range')\n",
    "plt.ylabel('frequency')\n",
    "plt.show()"
   ],
   "metadata": {
    "id": "ZfUWkBkmc5IY",
    "pycharm": {
     "name": "#%%\n"
    }
   },
   "execution_count": 169,
   "outputs": [
    {
     "data": {
      "text/plain": "<Figure size 432x360 with 1 Axes>",
      "image/png": "[encoded data removed]"
     },
     "metadata": {
      "needs_background": "light"
     },
     "output_type": "display_data"
    }
   ]
  },
  {
   "cell_type": "markdown",
   "source": [
    "Credit:\n",
    "This material is based on the tutorial for CS 210 offered at Rutgers in Fall 2021. "
   ],
   "metadata": {
    "id": "R6qplBtgVRLE",
    "pycharm": {
     "name": "#%% md\n"
    }
   }
  }
 ]
}